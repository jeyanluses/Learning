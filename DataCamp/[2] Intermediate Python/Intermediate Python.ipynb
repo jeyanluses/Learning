{
 "cells": [
  {
   "cell_type": "markdown",
   "metadata": {},
   "source": [
    "## Course Description\n",
    "\n",
    "Learning Python is crucial for any aspiring data science practitioner. Learn to visualize real data with Matplotlib's functions and get acquainted with data structures such as the dictionary and the pandas DataFrame. After covering key concepts such as boolean logic, control flow, and loops in Python, you'll be ready to blend together everything you've learned to solve a case study using hacker statistics."
   ]
  },
  {
   "cell_type": "markdown",
   "metadata": {},
   "source": [
    "---"
   ]
  },
  {
   "cell_type": "markdown",
   "metadata": {},
   "source": [
    "# [2] Dictionaries and Pandas\n",
    "\n",
    "Learn about the dictionary, an alternative to the Python list, and the pandas DataFrame, the de facto standard to work with tabular data in Python. You will get hands-on practice with creating and manipulating datasets, and you’ll learn how to access the information you need from these data structures."
   ]
  },
  {
   "cell_type": "markdown",
   "metadata": {},
   "source": [
    "### Dictionaries, Part 1\n",
    "- curly brackets are need {}\n",
    "- inside there is key:value pairs"
   ]
  },
  {
   "cell_type": "markdown",
   "metadata": {},
   "source": [
    "**Motivation for dictionaries**\n",
    "\n",
    "To see why dictionaries are useful, have a look at the two lists defined in the script. `countries` contains the names of some European countries. `capitals` lists the corresponding names of their capital."
   ]
  },
  {
   "cell_type": "markdown",
   "metadata": {},
   "source": [
    "* Use the index() method on countries to find the index of 'germany'. Store this index as ind_ger.\n",
    "* Use ind_ger to access the capital of Germany from the capitals list. Print it out."
   ]
  },
  {
   "cell_type": "code",
   "execution_count": null,
   "metadata": {},
   "outputs": [],
   "source": [
    "# Import necessary libraries\n",
    "\n",
    "import pandas as pd\n",
    "import numpy as np\n",
    "\n",
    "import warnings\n",
    "warnings.filterwarnings('ignore')"
   ]
  },
  {
   "cell_type": "code",
   "execution_count": null,
   "metadata": {},
   "outputs": [],
   "source": [
    "countries = pd.read_csv('datasets/gapminder.csv')\n",
    "countries.head()"
   ]
  },
  {
   "cell_type": "code",
   "execution_count": null,
   "metadata": {},
   "outputs": [],
   "source": [
    "# Definition of countries and capital\n",
    "countries = ['spain', 'france', 'germany', 'norway']\n",
    "capitals = ['madrid', 'paris', 'berlin', 'oslo']\n",
    "\n",
    "# Get index of 'germany': ind_ger\n",
    "ind_ger = countries.index('germany')\n",
    "print(ind_ger)\n",
    "\n",
    "# Use ind_ger to print out capital of Germany\n",
    "print(capitals[ind_ger])"
   ]
  },
  {
   "cell_type": "markdown",
   "metadata": {},
   "source": [
    "### Create dictionary\n",
    "\n",
    "The `countries` and `capitals` lists are again available in the script. It's your job to convert this data to a dictionary where the country names are the keys and the capitals are the corresponding values. As a refresher, here is a recipe for creating a dictionary:\n",
    "\n",
    "`my_dict = {\n",
    "   \"key1\":\"value1\",\n",
    "   \"key2\":\"value2\",\n",
    "}`\n",
    "\n",
    "In this recipe, both the keys and the values are strings. This will also be the case for this exercise."
   ]
  },
  {
   "cell_type": "markdown",
   "metadata": {},
   "source": [
    "- With the strings in `countries` and `capitals`, create a dictionary called `europe` with 4 key:value pairs. Beware of capitalization! Make sure you use lowercase characters everywhere.\n",
    "- Print out europe to see if the result is what you expected."
   ]
  },
  {
   "cell_type": "code",
   "execution_count": null,
   "metadata": {},
   "outputs": [],
   "source": [
    "# Definition of countries and capital\n",
    "countries = ['spain', 'france', 'germany', 'norway']\n",
    "capitals = ['madrid', 'paris', 'berlin', 'oslo']\n",
    "\n",
    "# From string in countries and capitals, create dictionary europe\n",
    "europe = {'spain':'madrid', 'france': 'paris', 'germany':'berlin', 'norway':'oslo' }\n",
    "\n",
    "# Print europe\n",
    "print(europe)"
   ]
  },
  {
   "cell_type": "markdown",
   "metadata": {},
   "source": [
    "### Access dictionary\n",
    "\n",
    "If the keys of a dictionary are chosen wisely, accessing the values in a dictionary is easy and intuitive. For example, to get the capital for France from europe you can use:\n",
    "\n",
    "`europe['france']`\n",
    "\n",
    "Here, `'france'` is the key and `'paris'` the value is returned."
   ]
  },
  {
   "cell_type": "markdown",
   "metadata": {},
   "source": [
    "- Check out which keys are in europe by calling the keys() method on europe. Print out the result.\n",
    "- Print out the value that belongs to the key 'norway'."
   ]
  },
  {
   "cell_type": "code",
   "execution_count": null,
   "metadata": {},
   "outputs": [],
   "source": [
    "# Definition of dictionary\n",
    "europe = {'spain':'madrid', 'france':'paris', 'germany':'berlin', 'norway':'oslo' }\n",
    "\n",
    "# Print out the keys in europe\n",
    "print(europe.keys())\n",
    "\n",
    "# Print out value that belongs to key 'norway'\n",
    "print(europe['norway'])"
   ]
  },
  {
   "cell_type": "markdown",
   "metadata": {},
   "source": [
    "### Dictionary\n",
    "- keys have to be \"immutable\" objects\n",
    "  - the content of immutable objects cannot be changed after they're created (strings, booleans, integers, floats)\n",
    "\n",
    "### List vs Dictionary\n",
    "\n",
    "**List** \n",
    "- select, update, and remove []\n",
    "- indexed by range of numbers\n",
    "- collection of values in which the order matters, for selecting entire subsets\n",
    "\n",
    "**Dictionary**\n",
    "- select, update, and remove []\n",
    "- indexed by unique keys\n",
    "- look up table with unique keys"
   ]
  },
  {
   "cell_type": "markdown",
   "metadata": {},
   "source": [
    "### Dictionary Manipulation (1)\n",
    "\n",
    "If you know how to access a dictionary, you can also assign a new value to it. To add a new key-value pair to europe you can use something like this:\n",
    "\n",
    "`europe['iceland'] = 'reykjavik'`"
   ]
  },
  {
   "cell_type": "markdown",
   "metadata": {},
   "source": [
    "- Add the key `'italy'` with the value `'rome'` to `europe`.\n",
    "- To assert that `'italy'` is now a key in `europe`, print out `'italy' in europe`.\n",
    "- Add another key:value pair to `europe`: `'poland'` is the key, `'warsaw'` is the corresponding value.\n",
    "- Print out `europe`."
   ]
  },
  {
   "cell_type": "code",
   "execution_count": null,
   "metadata": {},
   "outputs": [],
   "source": [
    "# Definition of dictionary\n",
    "europe = {'spain':'madrid', 'france':'paris', 'germany':'berlin', 'norway':'oslo' }\n",
    "\n",
    "# Add italy to europe\n",
    "europe['italy'] = 'rome'\n",
    "\n",
    "# Print out italy in europe\n",
    "print('italy' in europe)\n",
    "\n",
    "# Add poland to europe\n",
    "europe['poland'] = 'warsaw'\n",
    "\n",
    "# Print europe\n",
    "print(europe)"
   ]
  },
  {
   "cell_type": "markdown",
   "metadata": {},
   "source": [
    "### Dictionary Manipulation (2)\n",
    "\n",
    "Somebody thought it would be funny to mess with your accurately generated dictionary. An adapted version of the europe dictionary is available in the script.\n",
    "\n",
    "Can you clean up? Do not do this by adapting the definition of europe, but by adding Python commands to the script to update and remove key:value pairs."
   ]
  },
  {
   "cell_type": "markdown",
   "metadata": {},
   "source": [
    "- The capital of Germany is not 'bonn'; it's 'berlin'. Update its value.\n",
    "- Australia is not in Europe, Austria is! Remove the key 'australia' from europe.\n",
    "- Print out europe to see if your cleaning work paid off."
   ]
  },
  {
   "cell_type": "code",
   "execution_count": null,
   "metadata": {},
   "outputs": [],
   "source": [
    "# Definition of dictionary\n",
    "europe = {'spain':'madrid', 'france':'paris', 'germany':'bonn',\n",
    "          'norway':'oslo', 'italy':'rome', 'poland':'warsaw',\n",
    "          'australia':'vienna' }\n",
    "\n",
    "# Update capital of germany\n",
    "europe['germany'] = 'berlin'\n",
    " \n",
    "# Remove australia\n",
    "del(europe['australia'])\n",
    "\n",
    "# Print europe\n",
    "print(europe)"
   ]
  },
  {
   "cell_type": "markdown",
   "metadata": {},
   "source": [
    "### Dictionariception\n",
    "\n",
    "Remember lists? They could contain anything, even other lists. Well, for dictionaries the same holds. Dictionaries can contain key:value pairs where the values are again dictionaries.\n",
    "\n",
    "As an example, have a look at the script where another version of europe - the dictionary you've been working with all along - is coded. The keys are still the country names, but the values are dictionaries that contain more information than just the capital.\n",
    "\n",
    "It's perfectly possible to chain square brackets to select elements. To fetch the population for Spain from europe, for example, you need:\n",
    "\n",
    "`europe['spain']['population']`"
   ]
  },
  {
   "cell_type": "markdown",
   "metadata": {},
   "source": [
    "- Use chained square brackets to select and print out the capital of France.\n",
    "- Create a dictionary, named `data`, with the keys `'capital'` and `'population'`. Set them to `'rome'` and `59.83`, respectively.\n",
    "- Add a new key-value pair to `europe`; the key is `'italy'` and the value is `data`, the dictionary you just built."
   ]
  },
  {
   "cell_type": "code",
   "execution_count": null,
   "metadata": {},
   "outputs": [],
   "source": [
    "# Dictionary of dictionaries\n",
    "europe = { 'spain': { 'capital':'madrid', 'population':46.77 },\n",
    "           'france': { 'capital':'paris', 'population':66.03 },\n",
    "           'germany': { 'capital':'berlin', 'population':80.62 },\n",
    "           'norway': { 'capital':'oslo', 'population':5.084 } }\n",
    "\n",
    "\n",
    "# Print out the capital of France\n",
    "print(europe['france']['capital'])\n",
    "\n",
    "# Create sub-dictionary data\n",
    "data = {'capital': 'rome', 'population': 59.83}\n",
    "\n",
    "# Add data to europe under key 'italy'\n",
    "europe['italy'] = data\n",
    "\n",
    "# Print europe\n",
    "print(europe)"
   ]
  },
  {
   "cell_type": "markdown",
   "metadata": {},
   "source": [
    "---"
   ]
  },
  {
   "cell_type": "markdown",
   "metadata": {},
   "source": [
    "### Pandas\n",
    "\n",
    "**Dictionary to DataFrame (1)**\n",
    "\n",
    "Pandas is an open source library, providing high-performance, easy-to-use data structures and data analysis tools for Python. Sounds promising!\n",
    "\n",
    "The DataFrame is one of Pandas' most important data structures. It's basically a way to store tabular data where you can label the rows and the columns. One way to build a DataFrame is from a dictionary.\n",
    "\n",
    "In the exercises that follow you will be working with vehicle data from different countries. Each observation corresponds to a country and the columns give information about the number of vehicles per capita, whether people drive left or right, and so on.\n",
    "\n",
    "Three lists are defined in the script:\n",
    "\n",
    "- `names`, containing the country names for which data is available.\n",
    "- `dr`, a list with booleans that tells whether people drive left or right in the corresponding country.\n",
    "- `cpc`, the number of motor vehicles per 1000 people in the corresponding country.\n",
    "\n",
    "Each dictionary key is a column label and each value is a list which contains the column elements."
   ]
  },
  {
   "cell_type": "markdown",
   "metadata": {},
   "source": [
    "- Import pandas as pd.\n",
    "- Use the pre-defined lists to create a dictionary called my_dict. There should be three key value pairs:\n",
    "  - key 'country' and value names.\n",
    "  - key 'drives_right' and value dr.\n",
    "  - key 'cars_per_cap' and value cpc.\n",
    "- Use pd.DataFrame() to turn your dict into a DataFrame called cars.\n",
    "- Print out cars and see how beautiful it is."
   ]
  },
  {
   "cell_type": "code",
   "execution_count": null,
   "metadata": {},
   "outputs": [],
   "source": [
    "# Pre-defined lists\n",
    "names = ['United States', 'Australia', 'Japan', 'India', 'Russia', 'Morocco', 'Egypt']\n",
    "dr =  [True, False, False, False, True, True, True]\n",
    "cpc = [809, 731, 588, 18, 200, 70, 45]\n",
    "\n",
    "# Import pandas as pd\n",
    "import pandas as pd\n",
    "\n",
    "# Create dictionary my_dict with three key:value pairs: my_dict\n",
    "my_dict = {\"country\" : names, 'drives_right' : dr, \"cars_per_cap\" : cpc}\n",
    "\n",
    "# Build a DataFrame cars from my_dict: cars\n",
    "cars = pd.DataFrame(my_dict)\n",
    "\n",
    "# Print cars\n",
    "print(cars)\n",
    "cars.head()"
   ]
  },
  {
   "cell_type": "markdown",
   "metadata": {},
   "source": [
    "**Dictionary to DataFrame (2)**\n",
    "\n",
    "The Python code that solves the previous exercise is included in the script. Have you noticed that the row labels (i.e. the labels for the different observations) were automatically set to integers from 0 up to 6?\n",
    "\n",
    "To solve this a list `row_labels` has been created. You can use it to specify the row labels of the `cars` DataFrame. You do this by setting the `index` attribute of `cars`, that you can access as `cars.index`."
   ]
  },
  {
   "cell_type": "markdown",
   "metadata": {},
   "source": [
    "- Hit Run Code to see that, indeed, the row labels are not correctly set.\n",
    "- Specify the row labels by setting `cars.index` equal to `row_labels`.\n",
    "- Print out `cars` again and check if the row labels are correct this time."
   ]
  },
  {
   "cell_type": "code",
   "execution_count": null,
   "metadata": {},
   "outputs": [],
   "source": [
    "import pandas as pd\n",
    "\n",
    "# Build cars DataFrame\n",
    "names = ['United States', 'Australia', 'Japan', 'India', 'Russia', 'Morocco', 'Egypt']\n",
    "dr =  [True, False, False, False, True, True, True]\n",
    "cpc = [809, 731, 588, 18, 200, 70, 45]\n",
    "cars_dict = { 'country':names, 'drives_right':dr, 'cars_per_cap':cpc }\n",
    "cars = pd.DataFrame(cars_dict)\n",
    "print(cars)\n",
    "\n",
    "print(\" \")\n",
    "print(\"-------------------------------------------------------\")\n",
    "print(\" \")\n",
    "\n",
    "# Definition of row_labels\n",
    "row_labels = ['US', 'AUS', 'JPN', 'IN', 'RU', 'MOR', 'EG']\n",
    "\n",
    "# Specify row labels of cars\n",
    "cars.index = row_labels\n",
    "\n",
    "# Print cars again\n",
    "print(cars)"
   ]
  },
  {
   "cell_type": "markdown",
   "metadata": {},
   "source": [
    "**CSV to DataFrame (2)**\n",
    "\n",
    "Putting data in a dictionary and then building a DataFrame works, but it's not very efficient. What if you're dealing with millions of observations? In those cases, the data is typically available as files with a regular structure. One of those file types is the CSV file, which is short for \"comma-separated values\".\n",
    "\n",
    "To import CSV data into Python as a Pandas DataFrame you can use `read_csv()`.\n",
    "\n",
    "Let's explore this function with the same cars data from the previous exercises. This time, however, the data is available in a CSV file, named `cars.csv`. It is available in your current working directory, so the path to the file is simply `'cars.csv'`."
   ]
  },
  {
   "cell_type": "code",
   "execution_count": 6,
   "metadata": {},
   "outputs": [
    {
     "data": {
      "text/html": [
       "<div>\n",
       "<style scoped>\n",
       "    .dataframe tbody tr th:only-of-type {\n",
       "        vertical-align: middle;\n",
       "    }\n",
       "\n",
       "    .dataframe tbody tr th {\n",
       "        vertical-align: top;\n",
       "    }\n",
       "\n",
       "    .dataframe thead th {\n",
       "        text-align: right;\n",
       "    }\n",
       "</style>\n",
       "<table border=\"1\" class=\"dataframe\">\n",
       "  <thead>\n",
       "    <tr style=\"text-align: right;\">\n",
       "      <th></th>\n",
       "      <th>Unnamed: 0</th>\n",
       "      <th>cars_per_cap</th>\n",
       "      <th>country</th>\n",
       "      <th>drives_right</th>\n",
       "    </tr>\n",
       "  </thead>\n",
       "  <tbody>\n",
       "    <tr>\n",
       "      <th>0</th>\n",
       "      <td>US</td>\n",
       "      <td>809</td>\n",
       "      <td>United States</td>\n",
       "      <td>True</td>\n",
       "    </tr>\n",
       "    <tr>\n",
       "      <th>1</th>\n",
       "      <td>AUS</td>\n",
       "      <td>731</td>\n",
       "      <td>Australia</td>\n",
       "      <td>False</td>\n",
       "    </tr>\n",
       "    <tr>\n",
       "      <th>2</th>\n",
       "      <td>JAP</td>\n",
       "      <td>588</td>\n",
       "      <td>Japan</td>\n",
       "      <td>False</td>\n",
       "    </tr>\n",
       "    <tr>\n",
       "      <th>3</th>\n",
       "      <td>IN</td>\n",
       "      <td>18</td>\n",
       "      <td>India</td>\n",
       "      <td>False</td>\n",
       "    </tr>\n",
       "    <tr>\n",
       "      <th>4</th>\n",
       "      <td>RU</td>\n",
       "      <td>200</td>\n",
       "      <td>Russia</td>\n",
       "      <td>True</td>\n",
       "    </tr>\n",
       "  </tbody>\n",
       "</table>\n",
       "</div>"
      ],
      "text/plain": [
       "  Unnamed: 0  cars_per_cap        country  drives_right\n",
       "0         US           809  United States          True\n",
       "1        AUS           731      Australia         False\n",
       "2        JAP           588          Japan         False\n",
       "3         IN            18          India         False\n",
       "4         RU           200         Russia          True"
      ]
     },
     "execution_count": 6,
     "metadata": {},
     "output_type": "execute_result"
    }
   ],
   "source": [
    "# Import pandas as pd\n",
    "import pandas as pd\n",
    "\n",
    "# Import the cars.csv data: cars\n",
    "cars = pd.read_csv(\"datasets/cars.csv\")\n",
    "\n",
    "# Print out cars\n",
    "cars.head()"
   ]
  },
  {
   "cell_type": "code",
   "execution_count": 9,
   "metadata": {},
   "outputs": [
    {
     "data": {
      "text/html": [
       "<div>\n",
       "<style scoped>\n",
       "    .dataframe tbody tr th:only-of-type {\n",
       "        vertical-align: middle;\n",
       "    }\n",
       "\n",
       "    .dataframe tbody tr th {\n",
       "        vertical-align: top;\n",
       "    }\n",
       "\n",
       "    .dataframe thead th {\n",
       "        text-align: right;\n",
       "    }\n",
       "</style>\n",
       "<table border=\"1\" class=\"dataframe\">\n",
       "  <thead>\n",
       "    <tr style=\"text-align: right;\">\n",
       "      <th></th>\n",
       "      <th>cars_per_cap</th>\n",
       "      <th>country</th>\n",
       "      <th>drives_right</th>\n",
       "    </tr>\n",
       "  </thead>\n",
       "  <tbody>\n",
       "    <tr>\n",
       "      <th>US</th>\n",
       "      <td>809</td>\n",
       "      <td>United States</td>\n",
       "      <td>True</td>\n",
       "    </tr>\n",
       "    <tr>\n",
       "      <th>AUS</th>\n",
       "      <td>731</td>\n",
       "      <td>Australia</td>\n",
       "      <td>False</td>\n",
       "    </tr>\n",
       "    <tr>\n",
       "      <th>JAP</th>\n",
       "      <td>588</td>\n",
       "      <td>Japan</td>\n",
       "      <td>False</td>\n",
       "    </tr>\n",
       "    <tr>\n",
       "      <th>IN</th>\n",
       "      <td>18</td>\n",
       "      <td>India</td>\n",
       "      <td>False</td>\n",
       "    </tr>\n",
       "    <tr>\n",
       "      <th>RU</th>\n",
       "      <td>200</td>\n",
       "      <td>Russia</td>\n",
       "      <td>True</td>\n",
       "    </tr>\n",
       "  </tbody>\n",
       "</table>\n",
       "</div>"
      ],
      "text/plain": [
       "     cars_per_cap        country  drives_right\n",
       "US            809  United States          True\n",
       "AUS           731      Australia         False\n",
       "JAP           588          Japan         False\n",
       "IN             18          India         False\n",
       "RU            200         Russia          True"
      ]
     },
     "execution_count": 9,
     "metadata": {},
     "output_type": "execute_result"
    }
   ],
   "source": [
    "# Import pandas as pd\n",
    "import pandas as pd\n",
    "\n",
    "# Fix import by including index_col\n",
    "cars = pd.read_csv('datasets/cars.csv', index_col = 0)\n",
    "\n",
    "# Print out cars\n",
    "cars.head()"
   ]
  },
  {
   "cell_type": "markdown",
   "metadata": {},
   "source": [
    "---"
   ]
  },
  {
   "cell_type": "markdown",
   "metadata": {},
   "source": [
    "**Square Brackets (1)**\n",
    "\n",
    "In the video, you saw that you can index and select Pandas DataFrames in many different ways. The simplest, but not the most powerful way, is to use square brackets.\n",
    "\n",
    "In the sample code, the same cars data is imported from a CSV files as a Pandas DataFrame. To select only the `cars_per_cap` column from `cars`, you can use:\n",
    "\n",
    "`cars['cars_per_cap']` <br>\n",
    "`cars[['cars_per_cap']]`\n",
    "\n",
    "The single bracket version gives a Pandas Series, the double bracket version gives a Pandas DataFrame."
   ]
  },
  {
   "cell_type": "code",
   "execution_count": 17,
   "metadata": {},
   "outputs": [
    {
     "name": "stdout",
     "output_type": "stream",
     "text": [
      "US     United States\n",
      "AUS        Australia\n",
      "JAP            Japan\n",
      "IN             India\n",
      "RU            Russia\n",
      "MOR          Morocco\n",
      "EG             Egypt\n",
      "Name: country, dtype: object\n",
      " \n",
      "-------------------------------------------------------\n",
      " \n",
      "           country\n",
      "US   United States\n",
      "AUS      Australia\n",
      "JAP          Japan\n",
      "IN           India\n",
      "RU          Russia\n",
      "MOR        Morocco\n",
      "EG           Egypt\n",
      " \n",
      "-------------------------------------------------------\n",
      " \n",
      "           country  drives_right\n",
      "US   United States          True\n",
      "AUS      Australia         False\n",
      "JAP          Japan         False\n",
      "IN           India         False\n",
      "RU          Russia          True\n",
      "MOR        Morocco          True\n",
      "EG           Egypt          True\n"
     ]
    }
   ],
   "source": [
    "# Print out country column as Pandas Series\n",
    "print(cars['country'])\n",
    "\n",
    "print(\" \")\n",
    "print(\"-------------------------------------------------------\")\n",
    "print(\" \")\n",
    "\n",
    "# Print out country column as Pandas DataFrame\n",
    "print(cars[['country']])\n",
    "\n",
    "print(\" \")\n",
    "print(\"-------------------------------------------------------\")\n",
    "print(\" \")\n",
    "\n",
    "# Print out DataFrame with country and drives_right columns\n",
    "print(cars[['country', 'drives_right']])"
   ]
  },
  {
   "cell_type": "markdown",
   "metadata": {},
   "source": [
    "**Square Brackets (2)**\n",
    "\n",
    "Square brackets can do more than just selecting columns. You can also use them to get rows, or observations, from a DataFrame. The following call selects the first five rows from the `cars` DataFrame:\n",
    "\n",
    "`cars[0:5]`\n",
    "\n",
    "The result is another DataFrame containing only the rows you specified.\n",
    "\n",
    "Pay attention: You can only select rows using square brackets if you specify a slice, like `0:4`. Also, you're using the integer indexes of the rows here, not the row labels!"
   ]
  },
  {
   "cell_type": "markdown",
   "metadata": {},
   "source": [
    "- Select the first 3 observations from cars and print them out.\n",
    "- Select the fourth, fifth and sixth observation, corresponding to row indexes 3, 4 and 5, and print them out."
   ]
  },
  {
   "cell_type": "code",
   "execution_count": 31,
   "metadata": {},
   "outputs": [
    {
     "name": "stdout",
     "output_type": "stream",
     "text": [
      "     cars_per_cap        country  drives_right\n",
      "US            809  United States          True\n",
      "AUS           731      Australia         False\n",
      "JAP           588          Japan         False\n",
      " \n",
      "-------------------------------------------------------\n",
      " \n",
      "     cars_per_cap  country  drives_right\n",
      "IN             18    India         False\n",
      "RU            200   Russia          True\n",
      "MOR            70  Morocco          True\n"
     ]
    }
   ],
   "source": [
    "# Print out first 3 observations\n",
    "print(cars[0:3])\n",
    "\n",
    "print(\" \")\n",
    "print(\"-------------------------------------------------------\")\n",
    "print(\" \")\n",
    "\n",
    "# Print out fourth, fifth and sixth observation\n",
    "print(cars[3:6])"
   ]
  },
  {
   "cell_type": "markdown",
   "metadata": {},
   "source": [
    "**loc and iloc (1)**\n",
    "\n",
    "With `loc` and `iloc` you can do practically any data selection operation on DataFrames you can think of. loc is label-based, which means that you have to specify rows and columns based on their row and column labels. iloc is integer index based, so you have to specify rows and columns by their integer index like you did in the previous exercise.\n",
    "\n",
    "Try out the following commands in the IPython Shell to experiment with loc and iloc to select observations. Each pair of commands here gives the same result.\n",
    "\n",
    "`cars.loc['RU']` <br>\n",
    "`cars.iloc[4]`\n",
    "\n",
    "`cars.loc[['RU']]` <br>\n",
    "`cars.iloc[[4]]`\n",
    "\n",
    "`cars.loc[['RU', 'AUS']]` <br>\n",
    "`cars.iloc[[4, 1]]`\n",
    "\n",
    "As before, code is included that imports the cars data as a Pandas DataFrame."
   ]
  },
  {
   "cell_type": "markdown",
   "metadata": {},
   "source": [
    "- Use loc or iloc to select the observation corresponding to Japan as a Series. The label of this row is JPN, the index is 2. Make sure to print the resulting Series.\n",
    "- Use loc or iloc to select the observations for Australia and Egypt as a DataFrame. You can find out about the labels/indexes of these rows by inspecting cars in the IPython Shell. Make sure to print the resulting DataFrame."
   ]
  },
  {
   "cell_type": "code",
   "execution_count": 32,
   "metadata": {},
   "outputs": [
    {
     "name": "stdout",
     "output_type": "stream",
     "text": [
      "cars_per_cap      588\n",
      "country         Japan\n",
      "drives_right    False\n",
      "Name: JAP, dtype: object\n",
      " \n",
      "-------------------------------------------------------\n",
      " \n",
      "     cars_per_cap    country  drives_right\n",
      "AUS           731  Australia         False\n",
      "EG             45      Egypt          True\n"
     ]
    }
   ],
   "source": [
    "# Import cars data\n",
    "import pandas as pd\n",
    "cars = pd.read_csv('datasets/cars.csv', index_col = 0)\n",
    "\n",
    "# Print out observation for Japan\n",
    "print(cars.loc['JAP'])\n",
    "\n",
    "print(\" \")\n",
    "print(\"-------------------------------------------------------\")\n",
    "print(\" \")\n",
    "\n",
    "# Print out observations for Australia and Egypt\n",
    "print(cars.loc[['AUS', 'EG']])"
   ]
  },
  {
   "cell_type": "markdown",
   "metadata": {},
   "source": [
    "**loc and iloc (2)**\n",
    "\n",
    "loc and iloc also allow you to select both rows and columns from a DataFrame. To experiment, try out the following commands in the IPython Shell. Again, paired commands produce the same result.\n",
    "\n",
    "`cars.loc['IN', 'cars_per_cap']` <br>\n",
    "`cars.iloc[3, 0]`\n",
    "\n",
    "`cars.loc[['IN', 'RU'], 'cars_per_cap']` <br>\n",
    "`cars.iloc[[3, 4], 0]`\n",
    "\n",
    "`cars.loc[['IN', 'RU'], ['cars_per_cap', 'country']]` <br>\n",
    "`cars.iloc[[3, 4], [0, 1]]`"
   ]
  },
  {
   "cell_type": "markdown",
   "metadata": {},
   "source": [
    "- Print out the `drives_right` value of the row corresponding to Morocco (its row label is `MOR`)\n",
    "- Print out a sub-DataFrame, containing the observations for Russia and Morocco and the columns `country` and `drives_right`."
   ]
  },
  {
   "cell_type": "code",
   "execution_count": 34,
   "metadata": {},
   "outputs": [
    {
     "name": "stdout",
     "output_type": "stream",
     "text": [
      "True\n",
      "     country  drives_right\n",
      "RU    Russia          True\n",
      "MOR  Morocco          True\n"
     ]
    }
   ],
   "source": [
    "# Print out drives_right value of Morocco\n",
    "print(cars.loc['MOR', 'drives_right'])\n",
    "\n",
    "# Print sub-DataFrame\n",
    "print(cars.loc[['RU', 'MOR'], ['country', 'drives_right']])"
   ]
  },
  {
   "cell_type": "markdown",
   "metadata": {},
   "source": [
    "**loc and iloc (3)**\n",
    "\n",
    "It's also possible to select only columns with loc and iloc. In both cases, you simply put a slice going from beginning to end in front of the comma:\n",
    "\n",
    "`cars.loc[:, 'country']` <br>\n",
    "`cars.iloc[:, 1]`\n",
    "\n",
    "`cars.loc[:, ['country','drives_right']]` <br>\n",
    "`cars.iloc[:, [1, 2]]`"
   ]
  },
  {
   "cell_type": "code",
   "execution_count": 2,
   "metadata": {},
   "outputs": [
    {
     "name": "stdout",
     "output_type": "stream",
     "text": [
      "US      True\n",
      "AUS    False\n",
      "JAP    False\n",
      "IN     False\n",
      "RU      True\n",
      "MOR     True\n",
      "EG      True\n",
      "Name: drives_right, dtype: bool\n",
      " \n",
      "-------------------------------------------------------\n",
      " \n",
      "     drives_right\n",
      "US           True\n",
      "AUS         False\n",
      "JAP         False\n",
      "IN          False\n",
      "RU           True\n",
      "MOR          True\n",
      "EG           True\n",
      " \n",
      "-------------------------------------------------------\n",
      " \n",
      "     cars_per_cap  drives_right\n",
      "US            809          True\n",
      "AUS           731         False\n",
      "JAP           588         False\n",
      "IN             18         False\n",
      "RU            200          True\n",
      "MOR            70          True\n",
      "EG             45          True\n"
     ]
    }
   ],
   "source": [
    "# Import cars data\n",
    "import pandas as pd\n",
    "cars = pd.read_csv('datasets/cars.csv', index_col = 0)\n",
    "\n",
    "# Print out drives_right column as Series\n",
    "print(cars.loc[:, 'drives_right'])\n",
    "\n",
    "print(\" \")\n",
    "print(\"-------------------------------------------------------\")\n",
    "print(\" \")\n",
    "\n",
    "# Print out drives_right column as DataFrame\n",
    "print(cars.loc[:,['drives_right']])\n",
    "\n",
    "print(\" \")\n",
    "print(\"-------------------------------------------------------\")\n",
    "print(\" \")\n",
    "\n",
    "# Print out cars_per_cap and drives_right as DataFrame\n",
    "print(cars.loc[:, ['cars_per_cap', 'drives_right']])"
   ]
  },
  {
   "cell_type": "markdown",
   "metadata": {},
   "source": [
    "-----"
   ]
  },
  {
   "cell_type": "markdown",
   "metadata": {},
   "source": [
    "# Comparison Operators\n",
    "\n",
    "- operators that can tell how two Python values relate, and result in a boolean."
   ]
  },
  {
   "cell_type": "markdown",
   "metadata": {},
   "source": [
    "### Equality\n",
    "\n",
    "To check if two Python values, or variables, are equal you can use `==`. To check for inequality, you need `!=`. As a refresher, have a look at the following examples that all result in True. Feel free to try them out in the IPython Shell.\n",
    "\n",
    "`2 == (1 + 1)` <br>\n",
    "`\"intermediate\" != \"python\"` <br>\n",
    "`True != False` <br>\n",
    "`\"Python\" != \"python\"` <br>\n",
    "\n",
    "When you write these comparisons in a script, you will need to wrap a `print()` function around them to see the output."
   ]
  },
  {
   "cell_type": "markdown",
   "metadata": {},
   "source": [
    "- In the editor on the right, write code to see if `True` equals `False`.\n",
    "- Write Python code to check if `-5 * 15` is *not* equal to `75`.\n",
    "- Ask Python whether the strings `\"pyscript\"` and `\"PyScript\"` are equal.\n",
    "- What happens if you compare booleans and integers? Write code to see if `True` and `1` are equal."
   ]
  },
  {
   "cell_type": "code",
   "execution_count": 1,
   "metadata": {},
   "outputs": [
    {
     "name": "stdout",
     "output_type": "stream",
     "text": [
      "False\n",
      "True\n",
      "False\n",
      "True\n"
     ]
    }
   ],
   "source": [
    "# Comparison of booleans\n",
    "print(True == False)\n",
    "\n",
    "# Comparison of integers\n",
    "print((-5 * 15) != 75)\n",
    "\n",
    "# Comparison of strings\n",
    "print(\"pyscript\" == \"PyScript\")\n",
    "\n",
    "# Compare a boolean with an integer\n",
    "print(True == 1)"
   ]
  },
  {
   "cell_type": "markdown",
   "metadata": {},
   "source": [
    "### Greater and less than\n",
    "\n",
    "In the video, Hugo also talked about the less than and greater than signs, < and > in Python. You can combine them with an equals sign: <= and >=. Pay attention: <= is valid syntax, but =< is not.\n",
    "\n",
    "All Python expressions in the following code chunk evaluate to True:\n",
    "\n",
    "`3 < 4` <br>\n",
    "`3 <= 4` <br>\n",
    "`\"alpha\" <= \"beta\"`\n",
    "\n",
    "Remember that for string comparison, Python determines the relationship based on alphabetical order."
   ]
  },
  {
   "cell_type": "markdown",
   "metadata": {},
   "source": [
    "- Write Python expressions, wrapped in a print() function, to check whether:\n",
    "  - x is greater than or equal to -10. x has already been defined for you.\n",
    "  - \"test\" is less than or equal to y. y has already been defined for you.\n",
    "  - True is greater than False."
   ]
  },
  {
   "cell_type": "code",
   "execution_count": 2,
   "metadata": {},
   "outputs": [
    {
     "name": "stdout",
     "output_type": "stream",
     "text": [
      "False\n",
      "True\n",
      "True\n"
     ]
    }
   ],
   "source": [
    "# Comparison of integers\n",
    "x = -3 * 6\n",
    "\n",
    "\n",
    "# Comparison of strings\n",
    "y = \"test\"\n",
    "\n",
    "\n",
    "# Comparison of booleans\n",
    "print(x >= -10)\n",
    "print(\"test\" <= y)\n",
    "print(True > False)"
   ]
  },
  {
   "cell_type": "markdown",
   "metadata": {},
   "source": [
    "### Compare arrays\n",
    "\n",
    "Out of the box, you can also use comparison operators with NumPy arrays.\n",
    "\n",
    "Remember `areas`, the list of area measurements for different rooms in your house from Introduction to Python? This time there's two NumPy arrays: `my_house` and `your_house`. They both contain the areas for the kitchen, living room, bedroom and bathroom in the same order, so you can compare them."
   ]
  },
  {
   "cell_type": "markdown",
   "metadata": {},
   "source": [
    "Using comparison operators, generate boolean arrays that answer the following questions:\n",
    "\n",
    "- Which areas in `my_house` are greater than or equal to `18`?\n",
    "- You can also compare two NumPy arrays element-wise. Which areas in `my_house` are smaller than the ones in `your_house`?\n",
    "- Make sure to wrap both commands in a print() statement so that you can inspect the output!"
   ]
  },
  {
   "cell_type": "code",
   "execution_count": 10,
   "metadata": {},
   "outputs": [
    {
     "name": "stdout",
     "output_type": "stream",
     "text": [
      "[ True  True False False]\n",
      "[18. 20.]\n",
      "[False  True  True False]\n",
      "[20.   10.75]\n"
     ]
    }
   ],
   "source": [
    "# Create arrays\n",
    "import numpy as np\n",
    "my_house = np.array([18.0, 20.0, 10.75, 9.50])\n",
    "your_house = np.array([14.0, 24.0, 14.25, 9.0])\n",
    "\n",
    "# my_house greater than or equal to 18\n",
    "print(my_house >= 18)\n",
    "print(my_house[my_house >= 18])\n",
    "\n",
    "# my_house less than your_house\n",
    "print(my_house < your_house)\n",
    "print(my_house[my_house < your_house])"
   ]
  },
  {
   "cell_type": "markdown",
   "metadata": {},
   "source": [
    "# Boolean Operators\n",
    "\n",
    "Array equivalents of *and*, *or*, and *not*:\n",
    "\n",
    "`logical_and()` <br>\n",
    "`logical_or()` <br>\n",
    "`logical_not()`"
   ]
  },
  {
   "cell_type": "code",
   "execution_count": 6,
   "metadata": {},
   "outputs": [
    {
     "ename": "NameError",
     "evalue": "name 'bmi' is not defined",
     "output_type": "error",
     "traceback": [
      "\u001b[1;31m---------------------------------------------------------------------------\u001b[0m",
      "\u001b[1;31mNameError\u001b[0m                                 Traceback (most recent call last)",
      "\u001b[1;32m<ipython-input-6-dc32ca97465d>\u001b[0m in \u001b[0;36m<module>\u001b[1;34m\u001b[0m\n\u001b[0;32m      3\u001b[0m \u001b[1;31m# Example\u001b[0m\u001b[1;33m\u001b[0m\u001b[1;33m\u001b[0m\u001b[1;33m\u001b[0m\u001b[0m\n\u001b[0;32m      4\u001b[0m \u001b[1;33m\u001b[0m\u001b[0m\n\u001b[1;32m----> 5\u001b[1;33m \u001b[0mnp\u001b[0m\u001b[1;33m.\u001b[0m\u001b[0mlogical_and\u001b[0m\u001b[1;33m(\u001b[0m\u001b[0mbmi\u001b[0m \u001b[1;33m>\u001b[0m \u001b[1;36m21\u001b[0m\u001b[1;33m,\u001b[0m \u001b[0mbmi\u001b[0m \u001b[1;33m<\u001b[0m \u001b[1;36m22\u001b[0m\u001b[1;33m)\u001b[0m\u001b[1;33m\u001b[0m\u001b[1;33m\u001b[0m\u001b[0m\n\u001b[0m",
      "\u001b[1;31mNameError\u001b[0m: name 'bmi' is not defined"
     ]
    }
   ],
   "source": [
    "import numpy as np\n",
    "\n",
    "# Example\n",
    "\n",
    "np.logical_and(bmi > 21, bmi < 22)\n",
    "\n",
    "# to select bmis from the bmim array, use the resulting array of booleans in square brackets\n",
    "bmi[np.logical_and(bmi > 21, bmi < 22)]"
   ]
  },
  {
   "cell_type": "markdown",
   "metadata": {},
   "source": [
    "### and, or, not (1)\n",
    "\n",
    "A boolean is either `1` or `0`, `True` or `False`. With boolean operators such as `and`, `or` and `not`, you can combine these booleans to perform more advanced queries on your data.\n",
    "\n",
    "In the sample code, two variables are defined: `my_kitchen` and `your_kitchen`, representing areas."
   ]
  },
  {
   "cell_type": "markdown",
   "metadata": {},
   "source": [
    "Write Python expressions, wrapped in a print() function, to check whether:\n",
    "- `my_kitchen` is bigger than 10 and smaller than 18.\n",
    "- `my_kitchen` is smaller than 14 or bigger than 17.\n",
    "- double the area of `my_kitchen` is smaller than triple the area of `your_kitchen`."
   ]
  },
  {
   "cell_type": "code",
   "execution_count": 11,
   "metadata": {},
   "outputs": [
    {
     "name": "stdout",
     "output_type": "stream",
     "text": [
      "False\n",
      "True\n",
      "True\n"
     ]
    }
   ],
   "source": [
    "# Define variables\n",
    "my_kitchen = 18.0\n",
    "your_kitchen = 14.0\n",
    "\n",
    "# my_kitchen bigger than 10 and smaller than 18?\n",
    "print(my_kitchen > 10 and my_kitchen < 18)\n",
    "\n",
    "# my_kitchen smaller than 14 or bigger than 17?\n",
    "print(my_kitchen < 14 or my_kitchen > 17)\n",
    "\n",
    "# Double my_kitchen smaller than triple your_kitchen?\n",
    "print((my_kitchen*2) < (your_kitchen*3))"
   ]
  },
  {
   "cell_type": "markdown",
   "metadata": {},
   "source": [
    "### Boolean operators with NumPy\n",
    "\n",
    "Before, the operational operators like `<` and `>=` worked with NumPy arrays out of the box. Unfortunately, this is not true for the boolean operators `and`, `or`, and `not`.\n",
    "\n",
    "To use these operators with NumPy, you will need `np.logical_and()`, `np.logical_or()` and `np.logical_not()`. Here's an example on the `my_house` and `your_house` arrays from before to give you an idea:\n",
    "\n",
    "```\n",
    "np.logical_and(my_house > 13, \n",
    "               your_house < 15)\n",
    "```"
   ]
  },
  {
   "cell_type": "markdown",
   "metadata": {},
   "source": [
    "- Generate boolean arrays that answer the following questions:\n",
    "- Which areas in `my_house` are greater than `18.5` or smaller than `10`?\n",
    "- Which areas are smaller than 11 in both `my_house` and `your_hous`e? Make sure to wrap both commands in `print()` statement, so that you can inspect the output."
   ]
  },
  {
   "cell_type": "code",
   "execution_count": 4,
   "metadata": {},
   "outputs": [
    {
     "name": "stdout",
     "output_type": "stream",
     "text": [
      "[False  True False  True]\n",
      "[False False False  True]\n"
     ]
    }
   ],
   "source": [
    "# Create arrays\n",
    "import numpy as np\n",
    "my_house = np.array([18.0, 20.0, 10.75, 9.50])\n",
    "your_house = np.array([14.0, 24.0, 14.25, 9.0])\n",
    "\n",
    "# my_house greater than 18.5 or smaller than 10\n",
    "print(np.logical_or(my_house > 18.5, my_house < 10))\n",
    "\n",
    "# Both my_house and your_house smaller than 11\n",
    "print(np.logical_and(my_house < 11, your_house < 11))"
   ]
  },
  {
   "cell_type": "markdown",
   "metadata": {},
   "source": [
    "---"
   ]
  },
  {
   "cell_type": "markdown",
   "metadata": {},
   "source": [
    "# if, elif, else\n",
    "\n",
    "**if statement**\n",
    "\n",
    "if condition: <br>\n",
    "   \n",
    "&nbsp;&nbsp;&nbsp;expression"
   ]
  },
  {
   "cell_type": "code",
   "execution_count": 5,
   "metadata": {},
   "outputs": [
    {
     "name": "stdout",
     "output_type": "stream",
     "text": [
      "Z is an even number.\n"
     ]
    }
   ],
   "source": [
    "z = 4\n",
    "if z % 2 == 0:\n",
    "    print(\"Z is an even number.\")"
   ]
  },
  {
   "cell_type": "code",
   "execution_count": 13,
   "metadata": {},
   "outputs": [
    {
     "name": "stdout",
     "output_type": "stream",
     "text": [
      "checking 3\n",
      "Z is divisible by 3\n"
     ]
    }
   ],
   "source": [
    "z = 3\n",
    "if z % 2 == 0:\n",
    "    print(\"checking \" + str(z))\n",
    "    print(\"Z is divisible by 2.\")\n",
    "elif z % 3 == 0:\n",
    "    print(\"checking \" + str(z))\n",
    "    print(\"Z is divisible by 3\")\n",
    "else:\n",
    "    print(\"checking \" + str(z))\n",
    "    print(\"Z is neither divisible by 2 or 3.\")"
   ]
  },
  {
   "cell_type": "markdown",
   "metadata": {},
   "source": [
    "**Warmup**\n",
    "\n",
    "To experiment with if and else a bit, have a look at this code sample:\n",
    "\n",
    "`\n",
    "area = 10.0\n",
    "if(area < 9) :\n",
    "    print(\"small\")\n",
    "elif(area < 12) :\n",
    "    print(\"medium\")\n",
    "else :\n",
    "    print(\"large\")\n",
    "`\n",
    "    \n",
    "What will the output be if you run this piece of code in the IPython Shell?"
   ]
  },
  {
   "cell_type": "code",
   "execution_count": 14,
   "metadata": {},
   "outputs": [
    {
     "name": "stdout",
     "output_type": "stream",
     "text": [
      "medium\n"
     ]
    }
   ],
   "source": [
    "area = 10.0\n",
    "if(area < 9) :\n",
    "    print(\"small\")\n",
    "elif(area < 12) :\n",
    "    print(\"medium\")\n",
    "else :\n",
    "    print(\"large\")"
   ]
  },
  {
   "cell_type": "markdown",
   "metadata": {},
   "source": [
    "**if**\n",
    "\n",
    "It's time to take a closer look around in your house.\n",
    "\n",
    "Two variables are defined in the sample code: room, a string that tells you which `room` of the house we're looking at, and `area`, the area of that room.\n",
    "\n",
    "- Examine the `if` statement that prints out `\"looking around in the kitchen.\"` if `room` equals `\"kit\"`.\n",
    "- Write another `if` statement that prints out `\"big place!\"` if `area` is greater than `15`."
   ]
  },
  {
   "cell_type": "code",
   "execution_count": 16,
   "metadata": {},
   "outputs": [
    {
     "name": "stdout",
     "output_type": "stream",
     "text": [
      "looking around in the kitchen.\n",
      "so-so!\n"
     ]
    }
   ],
   "source": [
    "# Define variables\n",
    "room = \"kit\"\n",
    "area = 14.0\n",
    "\n",
    "# if statement for room\n",
    "if room == \"kit\" :\n",
    "    print(\"looking around in the kitchen.\")\n",
    "\n",
    "# if statement for area\n",
    "if area > 15:\n",
    "    print(\"big place!\")\n",
    "else:\n",
    "    print(\"so-so!\")"
   ]
  },
  {
   "cell_type": "markdown",
   "metadata": {},
   "source": [
    "**Add else**\n",
    "\n",
    "In the script, the `if` construct for `room` has been extended with an `else` statement so that \"looking around elsewhere.\" is printed if the condition `room == \"kit\"` evaluates to `False`.\n",
    "\n",
    "Can you do a similar thing to add more functionality to the `if` construct for `area`?\n",
    "\n",
    "- Add an `else` statement to the second control structure so that \"pretty small.\" is printed out if `area > 15` evaluates to `False`."
   ]
  },
  {
   "cell_type": "code",
   "execution_count": 18,
   "metadata": {},
   "outputs": [
    {
     "name": "stdout",
     "output_type": "stream",
     "text": [
      "looking around in the kitchen.\n",
      "pretty small.\n"
     ]
    }
   ],
   "source": [
    "# Define variables\n",
    "room = \"kit\"\n",
    "area = 14.0\n",
    "\n",
    "# if-else construct for room\n",
    "if room == \"kit\" :\n",
    "    print(\"looking around in the kitchen.\")\n",
    "else :\n",
    "    print(\"looking around elsewhere.\")\n",
    "\n",
    "# if-else construct for area\n",
    "if area > 15 :\n",
    "    print(\"big place!\")\n",
    "else:\n",
    "    print(\"pretty small.\")"
   ]
  },
  {
   "cell_type": "markdown",
   "metadata": {},
   "source": [
    "**Customize further: elif**\n",
    "\n",
    "It's also possible to have a look around in the bedroom. The sample code contains an `elif` part that checks if room equals `\"bed\"`. In that case, \"looking around in the bedroom.\" is printed out.\n",
    "\n",
    "It's up to you now! Make a similar addition to the second control structure to further customize the messages for different values of `area`.\n",
    "\n",
    "- Add an `elif` to the second control structure such that \"medium size, nice!\" is printed out if `area` is greater than `10`."
   ]
  },
  {
   "cell_type": "code",
   "execution_count": 19,
   "metadata": {},
   "outputs": [
    {
     "name": "stdout",
     "output_type": "stream",
     "text": [
      "looking around in the bedroom.\n",
      "medium size, nice!\n"
     ]
    }
   ],
   "source": [
    "# Define variables\n",
    "room = \"bed\"\n",
    "area = 14.0\n",
    "\n",
    "# if-elif-else construct for room\n",
    "if room == \"kit\" :\n",
    "    print(\"looking around in the kitchen.\")\n",
    "elif room == \"bed\":\n",
    "    print(\"looking around in the bedroom.\")\n",
    "else :\n",
    "    print(\"looking around elsewhere.\")\n",
    "\n",
    "# if-elif-else construct for area\n",
    "if area > 15 :\n",
    "    print(\"big place!\")\n",
    "elif area > 10:\n",
    "    print(\"medium size, nice!\")\n",
    "else :\n",
    "    print(\"pretty small.\")"
   ]
  },
  {
   "cell_type": "markdown",
   "metadata": {},
   "source": [
    "### Filtering pandas DataFrames\n"
   ]
  },
  {
   "cell_type": "code",
   "execution_count": 20,
   "metadata": {},
   "outputs": [
    {
     "data": {
      "text/html": [
       "<div>\n",
       "<style scoped>\n",
       "    .dataframe tbody tr th:only-of-type {\n",
       "        vertical-align: middle;\n",
       "    }\n",
       "\n",
       "    .dataframe tbody tr th {\n",
       "        vertical-align: top;\n",
       "    }\n",
       "\n",
       "    .dataframe thead th {\n",
       "        text-align: right;\n",
       "    }\n",
       "</style>\n",
       "<table border=\"1\" class=\"dataframe\">\n",
       "  <thead>\n",
       "    <tr style=\"text-align: right;\">\n",
       "      <th></th>\n",
       "      <th>country</th>\n",
       "      <th>capital</th>\n",
       "      <th>area</th>\n",
       "      <th>population</th>\n",
       "    </tr>\n",
       "  </thead>\n",
       "  <tbody>\n",
       "    <tr>\n",
       "      <th>BR</th>\n",
       "      <td>Brazil</td>\n",
       "      <td>Brasilia</td>\n",
       "      <td>8.516</td>\n",
       "      <td>200.40</td>\n",
       "    </tr>\n",
       "    <tr>\n",
       "      <th>RU</th>\n",
       "      <td>Russia</td>\n",
       "      <td>Moscow</td>\n",
       "      <td>17.100</td>\n",
       "      <td>143.50</td>\n",
       "    </tr>\n",
       "    <tr>\n",
       "      <th>IN</th>\n",
       "      <td>India</td>\n",
       "      <td>New Delhi</td>\n",
       "      <td>3.286</td>\n",
       "      <td>1252.00</td>\n",
       "    </tr>\n",
       "    <tr>\n",
       "      <th>CH</th>\n",
       "      <td>China</td>\n",
       "      <td>Beijing</td>\n",
       "      <td>9.597</td>\n",
       "      <td>1357.00</td>\n",
       "    </tr>\n",
       "    <tr>\n",
       "      <th>SA</th>\n",
       "      <td>South Africa</td>\n",
       "      <td>Pretoria</td>\n",
       "      <td>1.221</td>\n",
       "      <td>52.98</td>\n",
       "    </tr>\n",
       "  </tbody>\n",
       "</table>\n",
       "</div>"
      ],
      "text/plain": [
       "         country    capital    area  population\n",
       "BR        Brazil   Brasilia   8.516      200.40\n",
       "RU        Russia     Moscow  17.100      143.50\n",
       "IN         India  New Delhi   3.286     1252.00\n",
       "CH         China    Beijing   9.597     1357.00\n",
       "SA  South Africa   Pretoria   1.221       52.98"
      ]
     },
     "execution_count": 20,
     "metadata": {},
     "output_type": "execute_result"
    }
   ],
   "source": [
    "import pandas as pd\n",
    "\n",
    "brics = pd.read_csv(\"datasets/brics.csv\", index_col = 0)\n",
    "brics"
   ]
  },
  {
   "cell_type": "code",
   "execution_count": 28,
   "metadata": {},
   "outputs": [
    {
     "data": {
      "text/html": [
       "<div>\n",
       "<style scoped>\n",
       "    .dataframe tbody tr th:only-of-type {\n",
       "        vertical-align: middle;\n",
       "    }\n",
       "\n",
       "    .dataframe tbody tr th {\n",
       "        vertical-align: top;\n",
       "    }\n",
       "\n",
       "    .dataframe thead th {\n",
       "        text-align: right;\n",
       "    }\n",
       "</style>\n",
       "<table border=\"1\" class=\"dataframe\">\n",
       "  <thead>\n",
       "    <tr style=\"text-align: right;\">\n",
       "      <th></th>\n",
       "      <th>country</th>\n",
       "      <th>capital</th>\n",
       "      <th>area</th>\n",
       "      <th>population</th>\n",
       "    </tr>\n",
       "  </thead>\n",
       "  <tbody>\n",
       "    <tr>\n",
       "      <th>BR</th>\n",
       "      <td>Brazil</td>\n",
       "      <td>Brasilia</td>\n",
       "      <td>8.516</td>\n",
       "      <td>200.4</td>\n",
       "    </tr>\n",
       "    <tr>\n",
       "      <th>RU</th>\n",
       "      <td>Russia</td>\n",
       "      <td>Moscow</td>\n",
       "      <td>17.100</td>\n",
       "      <td>143.5</td>\n",
       "    </tr>\n",
       "    <tr>\n",
       "      <th>CH</th>\n",
       "      <td>China</td>\n",
       "      <td>Beijing</td>\n",
       "      <td>9.597</td>\n",
       "      <td>1357.0</td>\n",
       "    </tr>\n",
       "  </tbody>\n",
       "</table>\n",
       "</div>"
      ],
      "text/plain": [
       "   country   capital    area  population\n",
       "BR  Brazil  Brasilia   8.516       200.4\n",
       "RU  Russia    Moscow  17.100       143.5\n",
       "CH   China   Beijing   9.597      1357.0"
      ]
     },
     "execution_count": 28,
     "metadata": {},
     "output_type": "execute_result"
    }
   ],
   "source": [
    "# Select coutries with area over 8 million km2\n",
    "brics[brics['area'] > 8]"
   ]
  },
  {
   "cell_type": "code",
   "execution_count": 29,
   "metadata": {},
   "outputs": [
    {
     "data": {
      "text/html": [
       "<div>\n",
       "<style scoped>\n",
       "    .dataframe tbody tr th:only-of-type {\n",
       "        vertical-align: middle;\n",
       "    }\n",
       "\n",
       "    .dataframe tbody tr th {\n",
       "        vertical-align: top;\n",
       "    }\n",
       "\n",
       "    .dataframe thead th {\n",
       "        text-align: right;\n",
       "    }\n",
       "</style>\n",
       "<table border=\"1\" class=\"dataframe\">\n",
       "  <thead>\n",
       "    <tr style=\"text-align: right;\">\n",
       "      <th></th>\n",
       "      <th>country</th>\n",
       "      <th>capital</th>\n",
       "      <th>area</th>\n",
       "      <th>population</th>\n",
       "    </tr>\n",
       "  </thead>\n",
       "  <tbody>\n",
       "    <tr>\n",
       "      <th>BR</th>\n",
       "      <td>Brazil</td>\n",
       "      <td>Brasilia</td>\n",
       "      <td>8.516</td>\n",
       "      <td>200.4</td>\n",
       "    </tr>\n",
       "    <tr>\n",
       "      <th>CH</th>\n",
       "      <td>China</td>\n",
       "      <td>Beijing</td>\n",
       "      <td>9.597</td>\n",
       "      <td>1357.0</td>\n",
       "    </tr>\n",
       "  </tbody>\n",
       "</table>\n",
       "</div>"
      ],
      "text/plain": [
       "   country   capital   area  population\n",
       "BR  Brazil  Brasilia  8.516       200.4\n",
       "CH   China   Beijing  9.597      1357.0"
      ]
     },
     "execution_count": 29,
     "metadata": {},
     "output_type": "execute_result"
    }
   ],
   "source": [
    "brics[np.logical_and(brics['area'] > 8, brics['area'] < 10)]"
   ]
  },
  {
   "cell_type": "markdown",
   "metadata": {},
   "source": [
    "**Driving right (1)**\n",
    "\n",
    "Remember that `cars` dataset, containing the cars per 1000 people (`cars_per_cap`) and whether people drive right (`drives_right`) for different countries (`country`)? The code that imports this data in CSV format into Python as a DataFrame is included in the script.\n",
    "\n",
    "In the video, you saw a step-by-step approach to filter observations from a DataFrame based on boolean arrays. Let's start simple and try to find all observations in `cars` where `drives_right` is `True`.\n",
    "\n",
    "`drives_right` is a boolean column, so you'll have to extract it as a Series and then use this boolean Series to select observations from `cars`.\n",
    "\n",
    "---\n",
    "\n",
    "- Extract the `drives_right` column as a Pandas Series and store it as `dr`.\n",
    "- Use `dr`, a boolean Series, to subset the `cars` DataFrame. Store the resulting selection in `sel`.\n",
    "- Print `sel`, and assert that `drives_right` is `True` for all observations."
   ]
  },
  {
   "cell_type": "code",
   "execution_count": 31,
   "metadata": {},
   "outputs": [
    {
     "name": "stdout",
     "output_type": "stream",
     "text": [
      "     cars_per_cap        country  drives_right\n",
      "US            809  United States          True\n",
      "RU            200         Russia          True\n",
      "MOR            70        Morocco          True\n",
      "EG             45          Egypt          True\n"
     ]
    }
   ],
   "source": [
    "# Import cars data\n",
    "import pandas as pd\n",
    "cars = pd.read_csv('datasets/cars.csv', index_col = 0)\n",
    "\n",
    "# Extract drives_right column as Series: dr\n",
    "dr = cars['drives_right']\n",
    "\n",
    "# Use dr to subset cars: sel\n",
    "sel = cars[dr]\n",
    "\n",
    "# Print sel\n",
    "print(sel)"
   ]
  },
  {
   "cell_type": "markdown",
   "metadata": {},
   "source": [
    "**Driving right (2)**\n",
    "\n",
    "The code in the previous example worked fine, but you actually unnecessarily created a new variable `dr`. You can achieve the same result without this intermediate variable. Put the code that computes `dr` straight into the square brackets that select observations from `cars`.\n",
    "\n",
    "- Convert the code to a one-liner that calculates the variable sel as before."
   ]
  },
  {
   "cell_type": "code",
   "execution_count": 33,
   "metadata": {},
   "outputs": [
    {
     "name": "stdout",
     "output_type": "stream",
     "text": [
      "     cars_per_cap        country  drives_right\n",
      "US            809  United States          True\n",
      "RU            200         Russia          True\n",
      "MOR            70        Morocco          True\n",
      "EG             45          Egypt          True\n"
     ]
    }
   ],
   "source": [
    "# Import cars data\n",
    "import pandas as pd\n",
    "cars = pd.read_csv('datasets/cars.csv', index_col = 0)\n",
    "\n",
    "# Convert code to a one-liner\n",
    "sel = cars[cars['drives_right']]\n",
    "\n",
    "# Print sel\n",
    "print(sel)"
   ]
  },
  {
   "cell_type": "markdown",
   "metadata": {},
   "source": [
    "**Cars per capita (1)**\n",
    "\n",
    "Let's stick to the cars data some more. This time you want to find out which countries have a high cars per capita figure. In other words, in which countries do many people have a car, or maybe multiple cars.\n",
    "\n",
    "Similar to the previous example, you'll want to build up a boolean Series, that you can then use to subset the cars DataFrame to select certain observations. If you want to do this in a one-liner, that's perfectly fine!\n",
    "\n",
    "- Select the `cars_per_cap` column from `cars` as a Pandas Series and store it as `cpc`.\n",
    "- Use `cpc` in combination with a comparison operator and `500`. You want to end up with a boolean Series that's `True `if the corresponding country has a `cars_per_cap` of more than `500` and `False` otherwise. Store this boolean Series as `many_cars`.\n",
    "- Use `many_cars` to subset `cars`, similar to what you did before. Store the result as `car_maniac`.\n",
    "- Print out `car_maniac` to see if you got it right."
   ]
  },
  {
   "cell_type": "code",
   "execution_count": 34,
   "metadata": {},
   "outputs": [
    {
     "name": "stdout",
     "output_type": "stream",
     "text": [
      "     cars_per_cap        country  drives_right\n",
      "US            809  United States          True\n",
      "AUS           731      Australia         False\n",
      "JAP           588          Japan         False\n"
     ]
    }
   ],
   "source": [
    "# Import cars data\n",
    "import pandas as pd\n",
    "cars = pd.read_csv('datasets/cars.csv', index_col = 0)\n",
    "\n",
    "# Create car_maniac: observations that have a cars_per_cap over 500\n",
    "cpc = cars['cars_per_cap']\n",
    "many_cars = cpc > 500\n",
    "car_maniac = cars[many_cars]\n",
    "\n",
    "# Print car_maniac\n",
    "print(car_maniac)"
   ]
  },
  {
   "cell_type": "markdown",
   "metadata": {},
   "source": [
    "**Cars per capita (2)**\n",
    "\n",
    "Remember about `np.logical_and()`, `np.logical_or()` and `np.logical_not()`, the NumPy variants of the `and`, `or` and `not` operators? You can also use them on Pandas Series to do more advanced filtering operations.\n",
    "\n",
    "Take this example that selects the observations that have a `cars_per_cap` between 10 and 80. Try out these lines of code step by step to see what's happening.\n",
    "\n",
    "`cpc = cars['cars_per_cap']\n",
    "between = np.logical_and(cpc > 10, cpc < 80)\n",
    "medium = cars[between]\n",
    "`\n",
    "\n",
    "- Use the code sample provided to create a DataFrame `medium`, that includes all the observations of cars that have a `cars_per_cap` between `100` and `500`.\n",
    "- Print out `medium`."
   ]
  },
  {
   "cell_type": "code",
   "execution_count": 35,
   "metadata": {},
   "outputs": [
    {
     "name": "stdout",
     "output_type": "stream",
     "text": [
      "    cars_per_cap country  drives_right\n",
      "RU           200  Russia          True\n"
     ]
    }
   ],
   "source": [
    "# Import cars data\n",
    "import pandas as pd\n",
    "cars = pd.read_csv('datasets/cars.csv', index_col = 0)\n",
    "\n",
    "# Import numpy, you'll need this\n",
    "import numpy as np\n",
    "\n",
    "# Create medium: observations with cars_per_cap between 100 and 500\n",
    "cpc = cars['cars_per_cap']\n",
    "between = np.logical_and(cpc > 100, cpc < 500)\n",
    "medium = cars[between]\n",
    "\n",
    "# Print medium\n",
    "print(medium)"
   ]
  },
  {
   "cell_type": "markdown",
   "metadata": {},
   "source": [
    "---"
   ]
  },
  {
   "cell_type": "markdown",
   "metadata": {},
   "source": [
    "# [4] while loop\n",
    "\n",
    "**Recapp**\n",
    "\n",
    "*if-elif-else*\n",
    "- goes through construct only ONCE\n",
    "\n",
    "```\n",
    "z = 6\n",
    "if z % 2 == 0 : #True\n",
    "   print(\"z is divisible by 2\") #Executed\n",
    "elif z % 3 == 0: \n",
    "   print(\"z is divisible by 3\")\n",
    "else:\n",
    "   print(\"\"z is neither divisible by 2 or 3)\n",
    "```\n",
    "\n",
    "*while loop*\n",
    "- repeated if statement"
   ]
  },
  {
   "cell_type": "markdown",
   "metadata": {},
   "source": [
    "### while loop\n",
    "- numerically calculation a model\n",
    "- **repeating an actions until a certain condition is met**\n",
    "\n",
    "**Syntax:**\n",
    "\n",
    "while condition: <br>\n",
    "&nbsp;&nbsp;&nbsp;expression\n",
    "\n",
    "**Example:**\n",
    "- error starts at 50\n",
    "- divide by 4 on each run\n",
    "- continue until error no longer > 1"
   ]
  },
  {
   "cell_type": "code",
   "execution_count": 42,
   "metadata": {},
   "outputs": [
    {
     "name": "stdout",
     "output_type": "stream",
     "text": [
      "12.5\n",
      "3.125\n",
      "0.78125\n"
     ]
    }
   ],
   "source": [
    "error = 50.00\n",
    "while error > 1:\n",
    "    error = error / 4;\n",
    "    print(error)\n"
   ]
  },
  {
   "cell_type": "markdown",
   "metadata": {},
   "source": [
    "**while: warming up**\n",
    "\n",
    "The while loop is like a repeated if statement. The code is executed over and over again, as long as the condition is True. Have another look at its recipe.\n",
    "\n",
    "```\n",
    "while condition :\n",
    "    expression\n",
    "```    \n",
    "    \n",
    "Can you tell how many printouts the following while loop will do?\n",
    "\n",
    "```\n",
    "x = 1\n",
    "while x < 4 :\n",
    "    print(x)\n",
    "    x = x + 1\n",
    "```"
   ]
  },
  {
   "cell_type": "markdown",
   "metadata": {},
   "source": [
    "### Basic while loop\n",
    "\n",
    "Below you can find the example from the video where the error variable, initially equal to 50.0, is divided by 4 and printed out on every run:\n",
    "```\n",
    "error = 50.0\n",
    "while error > 1 :\n",
    "    error = error / 4\n",
    "    print(error)\n",
    "```\n",
    "\n",
    "This example will come in handy, because it's time to build a while loop yourself! We're going to code a while loop that implements a very basic control system for an **inverted pendulum**. If there's an offset from standing perfectly straight, the while loop will incrementally fix this offset.\n",
    "\n",
    "Note that if your while loop takes too long to run, you might have made a mistake. In particular, remember to indent the contents of the loop using four spaces or auto-indentation!\n",
    "\n",
    "- Create the variable offset with an initial value of 8.\n",
    "- Code a while loop that keeps running as long as offset is not equal to 0. Inside the while loop:\n",
    "- Print out the sentence \"correcting...\".\n",
    "- Next, decrease the value of offset by 1. You can do this with offset = offset - 1.\n",
    "- Finally, still within your loop, print out offset so you can see how it changes."
   ]
  },
  {
   "cell_type": "code",
   "execution_count": 44,
   "metadata": {},
   "outputs": [
    {
     "name": "stdout",
     "output_type": "stream",
     "text": [
      "correcting...\n",
      "7\n",
      "correcting...\n",
      "6\n",
      "correcting...\n",
      "5\n",
      "correcting...\n",
      "4\n",
      "correcting...\n",
      "3\n",
      "correcting...\n",
      "2\n",
      "correcting...\n",
      "1\n",
      "correcting...\n",
      "0\n"
     ]
    }
   ],
   "source": [
    "# Initialize offset\n",
    "offset = 8\n",
    "\n",
    "# Code the while loop\n",
    "while offset != 0:\n",
    "    print(\"correcting...\")\n",
    "    offset = offset - 1\n",
    "    print(offset)"
   ]
  },
  {
   "cell_type": "markdown",
   "metadata": {},
   "source": [
    "### Add conditionals\n",
    "The while loop that corrects the offset is a good start, but what if offset is negative? You can try to run the following code where offset is initialized to -6:\n",
    "\n",
    "```\n",
    "// Initialize offset\n",
    "offset = -6\n",
    "\n",
    "// Code the while loop\n",
    "while offset != 0 :\n",
    "    print(\"correcting...\")\n",
    "    offset = offset - 1\n",
    "    print(offset)\n",
    "```\n",
    "\n",
    "but your session will be disconnected. The while loop will never stop running, because offset will be further decreased on every run. offset != 0 will never become False and the while loop continues forever.\n",
    "\n",
    "Fix things by putting an if-else statement inside the while loop. If your code is still taking too long to run, you probably made a mistake!"
   ]
  },
  {
   "cell_type": "markdown",
   "metadata": {},
   "source": [
    "---\n",
    "- Inside the while loop, complete the if-else statement:\n",
    "  - If offset is greater than zero, you should decrease offset by 1.\n",
    "  - Else, you should increase offset by 1.\n",
    "- If you've coded things correctly, hitting Submit Answer should work this time.\n",
    "\n",
    "*If your code is still taking too long to run (or your session is expiring), you probably made a mistake. Check your code and make sure that the statement `offset != 0` will eventually evaluate to `FALSE`!*"
   ]
  },
  {
   "cell_type": "code",
   "execution_count": 45,
   "metadata": {},
   "outputs": [
    {
     "name": "stdout",
     "output_type": "stream",
     "text": [
      "correcting...\n",
      "-5\n",
      "correcting...\n",
      "-4\n",
      "correcting...\n",
      "-3\n",
      "correcting...\n",
      "-2\n",
      "correcting...\n",
      "-1\n",
      "correcting...\n",
      "0\n"
     ]
    }
   ],
   "source": [
    "# Initialize offset\n",
    "offset = -6\n",
    "\n",
    "# Code the while loop\n",
    "while offset != 0 :\n",
    "    print(\"correcting...\")\n",
    "    if offset > 0 :\n",
    "      offset = offset - 1\n",
    "    else : \n",
    "      offset = offset + 1    \n",
    "    print(offset)"
   ]
  },
  {
   "cell_type": "markdown",
   "metadata": {},
   "source": [
    "---\n",
    "\n",
    "### for loop\n",
    "- for each variable (var) in sequence (seq), execute expression\n",
    "\n",
    "**Syntax**\n",
    "\n",
    "for var in seq: <br>\n",
    "&nbsp;&nbsp;&nbsp;expression"
   ]
  },
  {
   "cell_type": "code",
   "execution_count": 4,
   "metadata": {},
   "outputs": [
    {
     "name": "stdout",
     "output_type": "stream",
     "text": [
      "1.73\n",
      "1.68\n",
      "1.71\n",
      "1.89\n",
      "\n",
      "index 0: 1.73\n",
      "index 1: 1.68\n",
      "index 2: 1.71\n",
      "index 3: 1.89\n"
     ]
    }
   ],
   "source": [
    "fam = [1.73, 1.68, 1.71, 1.89]\n",
    "\n",
    "for height in fam:\n",
    "    print(height)\n",
    "\n",
    "print(\"\")\n",
    "\n",
    "# Display the index of the list\n",
    "# use the enumerate() function\n",
    "for index, height in enumerate(fam):\n",
    "    print(\"index \" + str(index) + \": \" + str(height))"
   ]
  },
  {
   "cell_type": "code",
   "execution_count": 8,
   "metadata": {},
   "outputs": [
    {
     "name": "stdout",
     "output_type": "stream",
     "text": [
      "F\n",
      "A\n",
      "M\n",
      "I\n",
      "L\n",
      "Y\n"
     ]
    }
   ],
   "source": [
    "for c in \"family\":\n",
    "    print(c.capitalize())"
   ]
  },
  {
   "cell_type": "markdown",
   "metadata": {},
   "source": [
    "### Loop over a list\n",
    "\n",
    "Have another look at the for loop that Hugo showed in the video:\n",
    "\n",
    "```\n",
    "fam = [1.73, 1.68, 1.71, 1.89]\n",
    "for height in fam : \n",
    "    print(height)\n",
    "```\n",
    "\n",
    "As usual, you simply have to indent the code with 4 spaces to tell Python which code should be executed in the `for` loop.\n",
    "\n",
    "The `areas` variable, containing the area of different rooms in your house, is already defined.\n",
    "\n",
    "- Write a for loop that iterates over all elements of the areas list and prints out every element separately."
   ]
  },
  {
   "cell_type": "code",
   "execution_count": 9,
   "metadata": {},
   "outputs": [
    {
     "name": "stdout",
     "output_type": "stream",
     "text": [
      "11.25\n",
      "18.0\n",
      "20.0\n",
      "10.75\n",
      "9.5\n"
     ]
    }
   ],
   "source": [
    "# areas list\n",
    "areas = [11.25, 18.0, 20.0, 10.75, 9.50]\n",
    "\n",
    "# Code the for loop\n",
    "for i in areas:\n",
    "    print(i)"
   ]
  },
  {
   "cell_type": "markdown",
   "metadata": {},
   "source": [
    "### Indexes and values (1)\n",
    "\n",
    "Using a `for` loop to iterate over a list only gives you access to every list element in each run, one after the other. If you also want to access the index information, so where the list element you're iterating over is located, you can use `enumerate()`.\n",
    "\n",
    "As an example, have a look at how the `for` loop from the video was converted:\n",
    "\n",
    "```\n",
    "fam = [1.73, 1.68, 1.71, 1.89]\n",
    "for index, height in enumerate(fam) :\n",
    "    print(\"person \" + str(index) + \": \" + str(height))\n",
    "```\n",
    "\n",
    "- Adapt the `for` loop in the sample code to use `enumerate()` and use two iterator variables.\n",
    "- Update the `print()` statement so that on each run, a line of the form `\"room x: y\"` should be printed, where x is the index of the list element and y is the actual list element, i.e. the area. Make sure to print out this exact string, with the correct spacing."
   ]
  },
  {
   "cell_type": "code",
   "execution_count": 11,
   "metadata": {},
   "outputs": [
    {
     "name": "stdout",
     "output_type": "stream",
     "text": [
      "room 0: 11.25\n",
      "room 1: 18.0\n",
      "room 2: 20.0\n",
      "room 3: 10.75\n",
      "room 4: 9.5\n"
     ]
    }
   ],
   "source": [
    "# areas list\n",
    "areas = [11.25, 18.0, 20.0, 10.75, 9.50]\n",
    "\n",
    "# Change for loop to use enumerate() and update print()\n",
    "for index, area in enumerate(areas):\n",
    "    print(\"room \" + str(index) + \": \" + str(area))"
   ]
  },
  {
   "cell_type": "markdown",
   "metadata": {},
   "source": [
    "### Indexes and values (2)\n",
    "\n",
    "For non-programmer folks, `room 0: 11.25` is strange. Wouldn't it be better if the count started at 1?"
   ]
  },
  {
   "cell_type": "code",
   "execution_count": 12,
   "metadata": {},
   "outputs": [
    {
     "name": "stdout",
     "output_type": "stream",
     "text": [
      "room 1: 11.25\n",
      "room 2: 18.0\n",
      "room 3: 20.0\n",
      "room 4: 10.75\n",
      "room 5: 9.5\n"
     ]
    }
   ],
   "source": [
    "# areas list\n",
    "areas = [11.25, 18.0, 20.0, 10.75, 9.50]\n",
    "\n",
    "# Code the for loop\n",
    "for index, area in enumerate(areas) :\n",
    "    print(\"room \" + str(index+1) + \": \" + str(area))"
   ]
  },
  {
   "cell_type": "markdown",
   "metadata": {},
   "source": [
    "### Loop over list of lists\n",
    "\n",
    "Remember the `house` variable from the Intro to Python course? Have a look at its definition in the script. It's basically a list of lists, where each sublist contains the name and area of a room in your house.\n",
    "\n",
    "It's up to you to build a `for` loop from scratch this time!\n",
    "\n",
    "- Write a for `loop` that goes through each sublist of `house` and prints out the `x` is `y sqm`, where `x` is the name of the `room` and `y` is the `area` of the room."
   ]
  },
  {
   "cell_type": "code",
   "execution_count": 14,
   "metadata": {},
   "outputs": [
    {
     "name": "stdout",
     "output_type": "stream",
     "text": [
      "the hallway is 11.25 sqm.\n",
      "the kitchen is 18.0 sqm.\n",
      "the living room is 20.0 sqm.\n",
      "the bedroom is 10.75 sqm.\n",
      "the bathroom is 9.5 sqm.\n"
     ]
    }
   ],
   "source": [
    "# house list of lists\n",
    "house = [[\"hallway\", 11.25], \n",
    "         [\"kitchen\", 18.0], \n",
    "         [\"living room\", 20.0], \n",
    "         [\"bedroom\", 10.75], \n",
    "         [\"bathroom\", 9.50]]\n",
    "         \n",
    "# Build a for loop from scratch\n",
    "for room, area in house:\n",
    "    print(\"the \" + str(room) + \" is \" + str(area) + \" sqm.\")"
   ]
  },
  {
   "cell_type": "markdown",
   "metadata": {},
   "source": [
    "### Loop Data Structures Part 1"
   ]
  },
  {
   "cell_type": "code",
   "execution_count": 18,
   "metadata": {},
   "outputs": [
    {
     "ename": "ValueError",
     "evalue": "too many values to unpack (expected 2)",
     "output_type": "error",
     "traceback": [
      "\u001b[1;31m---------------------------------------------------------------------------\u001b[0m",
      "\u001b[1;31mValueError\u001b[0m                                Traceback (most recent call last)",
      "\u001b[1;32m<ipython-input-18-e8f384843b32>\u001b[0m in \u001b[0;36m<module>\u001b[1;34m\u001b[0m\n\u001b[0;32m      5\u001b[0m }\n\u001b[0;32m      6\u001b[0m \u001b[1;33m\u001b[0m\u001b[0m\n\u001b[1;32m----> 7\u001b[1;33m \u001b[1;32mfor\u001b[0m \u001b[0mkey\u001b[0m\u001b[1;33m,\u001b[0m \u001b[0mvalue\u001b[0m \u001b[1;32min\u001b[0m \u001b[0mworld\u001b[0m\u001b[1;33m:\u001b[0m\u001b[1;33m\u001b[0m\u001b[1;33m\u001b[0m\u001b[0m\n\u001b[0m\u001b[0;32m      8\u001b[0m     \u001b[0mprint\u001b[0m\u001b[1;33m(\u001b[0m\u001b[0mstr\u001b[0m\u001b[1;33m(\u001b[0m\u001b[0mkey\u001b[0m\u001b[1;33m)\u001b[0m \u001b[1;33m+\u001b[0m \u001b[1;34m\" -- \"\u001b[0m \u001b[1;33m+\u001b[0m \u001b[0mstr\u001b[0m\u001b[1;33m(\u001b[0m\u001b[0mvalue\u001b[0m\u001b[1;33m)\u001b[0m\u001b[1;33m)\u001b[0m\u001b[1;33m\u001b[0m\u001b[1;33m\u001b[0m\u001b[0m\n",
      "\u001b[1;31mValueError\u001b[0m: too many values to unpack (expected 2)"
     ]
    }
   ],
   "source": [
    "world = {\n",
    "    \"afghanistan\": 30.55,\n",
    "    \"albania\": 2.77,\n",
    "    \"algeria\": 39.21\n",
    "}\n",
    "\n",
    "for key, value in world:\n",
    "    print(str(key) + \" -- \" + str(value))"
   ]
  },
  {
   "cell_type": "markdown",
   "metadata": {},
   "source": [
    "> **Python sees that two values is expected in every iteration, but Python has no idea how to go about this.**"
   ]
  },
  {
   "cell_type": "code",
   "execution_count": 24,
   "metadata": {},
   "outputs": [
    {
     "name": "stdout",
     "output_type": "stream",
     "text": [
      "afghanistan -- 30.55\n",
      "albania -- 2.77\n",
      "algeria -- 39.21\n"
     ]
    }
   ],
   "source": [
    "world = {\n",
    "    \"afghanistan\": 30.55,\n",
    "    \"albania\": 2.77,\n",
    "    \"algeria\": 39.21\n",
    "}\n",
    "\n",
    "# generate a key and value in each iteration\n",
    "for key, value in world.items():\n",
    "    print(key + \" -- \" + str(value))"
   ]
  },
  {
   "cell_type": "markdown",
   "metadata": {},
   "source": [
    "### NumPy Arrays"
   ]
  },
  {
   "cell_type": "code",
   "execution_count": 20,
   "metadata": {},
   "outputs": [
    {
     "name": "stdout",
     "output_type": "stream",
     "text": [
      "37.80346820809249\n",
      "35.23809523809524\n",
      "37.19298245614035\n",
      "46.77248677248678\n",
      "38.37988826815643\n"
     ]
    }
   ],
   "source": [
    "import numpy as np\n",
    "\n",
    "np_height = np.array([1.73, 1.68, 1.71, 1.89, 1.79])\n",
    "np_weight = np.array([65.4, 59.2, 63.6, 88.4, 68.7])\n",
    "\n",
    "bmi = np_weight / np_height\n",
    "\n",
    "for val in bmi:\n",
    "    print(val)"
   ]
  },
  {
   "cell_type": "code",
   "execution_count": 22,
   "metadata": {},
   "outputs": [
    {
     "name": "stdout",
     "output_type": "stream",
     "text": [
      "1.73\n",
      "1.68\n",
      "1.71\n",
      "1.89\n",
      "1.79\n",
      "65.4\n",
      "59.2\n",
      "63.6\n",
      "88.4\n",
      "68.7\n"
     ]
    }
   ],
   "source": [
    "import numpy as np\n",
    "\n",
    "np_height = np.array([1.73, 1.68, 1.71, 1.89, 1.79])\n",
    "np_weight = np.array([65.4, 59.2, 63.6, 88.4, 68.7])\n",
    "\n",
    "meas = np.array([np_height, np_weight])\n",
    "\n",
    "# the input is the array to iterate over\n",
    "for val in np.nditer(meas):\n",
    "    print(val)"
   ]
  },
  {
   "cell_type": "markdown",
   "metadata": {},
   "source": [
    "## Recap\n",
    "\n",
    "- Dictionary\n",
    "  - iterate over key-value pairs in a dictionary, use the `items()` method on the dictionary to define the sequence in the `for` loop\n",
    "  - dictionaries require a method\n",
    "  - `for key, val in my_dict.items()`\n",
    "  \n",
    "\n",
    "- NumPy array\n",
    "  - to iterate over all elements in a NumPy array, nditer() function is used\n",
    "  - NumPy arrays use a function\n",
    "  - `for val in np.nditer(my_array)`"
   ]
  },
  {
   "cell_type": "markdown",
   "metadata": {},
   "source": [
    "### Loop over dictionary\n",
    "\n",
    "In Python 3, you need the `items()` method to loop over a dictionary:\n",
    "\n",
    "```\n",
    "world = { \"afghanistan\":30.55, \n",
    "          \"albania\":2.77,\n",
    "          \"algeria\":39.21 }\n",
    "\n",
    "for key, value in world.items() :\n",
    "    print(key + \" -- \" + str(value))\n",
    "```\n",
    "\n",
    "Remember the `europe` dictionary that contained the names of some European countries as key and their capitals as corresponding value? Go ahead and write a loop to iterate over it!"
   ]
  },
  {
   "cell_type": "markdown",
   "metadata": {},
   "source": [
    "- Write a `for` loop that goes through each key:value pair of `europe`. On each iteration, `\"the capital of x is y\"` should be printed out, where x is the key and y is the value of the pair."
   ]
  },
  {
   "cell_type": "code",
   "execution_count": 25,
   "metadata": {},
   "outputs": [
    {
     "name": "stdout",
     "output_type": "stream",
     "text": [
      "the capital of spain is madrid\n",
      "the capital of france is paris\n",
      "the capital of germany is berlin\n",
      "the capital of norway is oslo\n",
      "the capital of italy is rome\n",
      "the capital of poland is warsaw\n",
      "the capital of austria is vienna\n"
     ]
    }
   ],
   "source": [
    "# Definition of dictionary\n",
    "europe = {'spain':'madrid', 'france':'paris', \n",
    "          'germany':'berlin', 'norway':'oslo', \n",
    "          'italy':'rome', 'poland':'warsaw', \n",
    "          'austria':'vienna' }\n",
    "          \n",
    "# Iterate over europe\n",
    "for key, value in europe.items():\n",
    "    print(\"the capital of \" + key + \" is \" + str(value))"
   ]
  },
  {
   "cell_type": "markdown",
   "metadata": {},
   "source": [
    "### Loop over NumPy array\n",
    "If you're dealing with a 1D NumPy array, looping over all elements can be as simple as:\n",
    "\n",
    "```\n",
    "for x in my_array :\n",
    "    ...\n",
    "```\n",
    "\n",
    "If you're dealing with a 2D NumPy array, it's more complicated. A 2D array is built up of multiple 1D arrays. To explicitly iterate over all separate elements of a multi-dimensional array, you'll need this syntax:\n",
    "\n",
    "```\n",
    "for x in np.nditer(my_array) :\n",
    "    ...\n",
    "```\n",
    "\n",
    "Two NumPy arrays that you might recognize from the intro course are available in your Python session: `np_height`, a NumPy array containing the heights of Major League Baseball players, and `np_baseball`, a 2D NumPy array that contains both the heights (first column) and weights (second column) of those players."
   ]
  },
  {
   "cell_type": "markdown",
   "metadata": {},
   "source": [
    "- Import the `numpy` package under the local alias `np`.\n",
    "- Write a `for` loop that iterates over all elements in `np_height` and prints out `\"x inches\"` for each element, where x is the value in the array.\n",
    "- Write a `for` loop that visits every element of the `np_baseball` array and prints it out."
   ]
  },
  {
   "cell_type": "code",
   "execution_count": null,
   "metadata": {},
   "outputs": [],
   "source": [
    "# Import numpy as np\n",
    "import numpy as np\n",
    "\n",
    "# For loop over np_height\n",
    "for h in np_height:\n",
    "    print(str(h) + \" inches\")\n",
    "\n",
    "# For loop over np_baseball\n",
    "for b in np.nditer(np_baseball):\n",
    "    print(b)"
   ]
  },
  {
   "cell_type": "markdown",
   "metadata": {},
   "source": [
    "### Loop Data Structures Part 2"
   ]
  },
  {
   "cell_type": "code",
   "execution_count": 28,
   "metadata": {},
   "outputs": [
    {
     "name": "stdout",
     "output_type": "stream",
     "text": [
      "BR\n",
      "country         Brazil\n",
      "capital       Brasilia\n",
      "area             8.516\n",
      "population       200.4\n",
      "Name: BR, dtype: object\n",
      "-\n",
      "RU\n",
      "country       Russia\n",
      "capital       Moscow\n",
      "area            17.1\n",
      "population     143.5\n",
      "Name: RU, dtype: object\n",
      "-\n",
      "IN\n",
      "country           India\n",
      "capital       New Delhi\n",
      "area              3.286\n",
      "population         1252\n",
      "Name: IN, dtype: object\n",
      "-\n",
      "CH\n",
      "country         China\n",
      "capital       Beijing\n",
      "area            9.597\n",
      "population       1357\n",
      "Name: CH, dtype: object\n",
      "-\n",
      "SA\n",
      "country       South Africa\n",
      "capital           Pretoria\n",
      "area                 1.221\n",
      "population           52.98\n",
      "Name: SA, dtype: object\n",
      "-\n"
     ]
    }
   ],
   "source": [
    "import pandas as pd\n",
    "brics = pd.read_csv(\"datasets/brics.csv\", index_col = 0)\n",
    "\n",
    "for lab, row in brics.iterrows():\n",
    "    print(lab)\n",
    "    print(row)\n",
    "    print(\"-\")"
   ]
  },
  {
   "cell_type": "code",
   "execution_count": 30,
   "metadata": {},
   "outputs": [
    {
     "name": "stdout",
     "output_type": "stream",
     "text": [
      "BR: Brasilia\n",
      "RU: Moscow\n",
      "IN: New Delhi\n",
      "CH: Beijing\n",
      "SA: Pretoria\n"
     ]
    }
   ],
   "source": [
    "for lab, row in brics.iterrows():\n",
    "    print(lab + \": \" + row['capital']) "
   ]
  },
  {
   "cell_type": "markdown",
   "metadata": {},
   "source": [
    "### Adding column"
   ]
  },
  {
   "cell_type": "code",
   "execution_count": 31,
   "metadata": {},
   "outputs": [
    {
     "name": "stdout",
     "output_type": "stream",
     "text": [
      "         country    capital    area  population  name_length\n",
      "BR        Brazil   Brasilia   8.516      200.40          6.0\n",
      "RU        Russia     Moscow  17.100      143.50          6.0\n",
      "IN         India  New Delhi   3.286     1252.00          5.0\n",
      "CH         China    Beijing   9.597     1357.00          5.0\n",
      "SA  South Africa   Pretoria   1.221       52.98         12.0\n"
     ]
    }
   ],
   "source": [
    "for lab, row in brics.iterrows():\n",
    "    # Creating series on every iteration\n",
    "    brics.loc[lab, \"name_length\"] = len(row['country'])\n",
    "\n",
    "print(brics)"
   ]
  },
  {
   "cell_type": "markdown",
   "metadata": {},
   "source": [
    "### Better approach to calculate DataFrame column - apply()"
   ]
  },
  {
   "cell_type": "code",
   "execution_count": 33,
   "metadata": {},
   "outputs": [
    {
     "name": "stdout",
     "output_type": "stream",
     "text": [
      "         country    capital    area  population  name_length\n",
      "BR        Brazil   Brasilia   8.516      200.40            6\n",
      "RU        Russia     Moscow  17.100      143.50            6\n",
      "IN         India  New Delhi   3.286     1252.00            5\n",
      "CH         China    Beijing   9.597     1357.00            5\n",
      "SA  South Africa   Pretoria   1.221       52.98           12\n"
     ]
    }
   ],
   "source": [
    "brics['name_length'] = brics['country'].apply(len)\n",
    "print(brics)"
   ]
  },
  {
   "cell_type": "markdown",
   "metadata": {},
   "source": [
    "### Loop over DataFrame (1)\n",
    "\n",
    "Iterating over a Pandas DataFrame is typically done with the iterrows() method. Used in a for loop, every observation is iterated over and on every iteration the row label and actual row contents are available:\n",
    "\n",
    "```\n",
    "for lab, row in brics.iterrows() :\n",
    "    ...\n",
    "```\n",
    "\n",
    "In this and the following exercises you will be working on the cars DataFrame. It contains information on the cars per capita and whether people drive right or left for seven countries in the world."
   ]
  },
  {
   "cell_type": "markdown",
   "metadata": {},
   "source": [
    "- Write a `for` loop that iterates over the rows of `cars` and on each iteration perform two `print()` calls: one to print out the row label and one to print out all of the rows contents."
   ]
  },
  {
   "cell_type": "code",
   "execution_count": 36,
   "metadata": {},
   "outputs": [
    {
     "name": "stdout",
     "output_type": "stream",
     "text": [
      "US\n",
      "cars_per_cap              809\n",
      "country         United States\n",
      "drives_right             True\n",
      "Name: US, dtype: object\n",
      " \n",
      "AUS\n",
      "cars_per_cap          731\n",
      "country         Australia\n",
      "drives_right        False\n",
      "Name: AUS, dtype: object\n",
      " \n",
      "JAP\n",
      "cars_per_cap      588\n",
      "country         Japan\n",
      "drives_right    False\n",
      "Name: JAP, dtype: object\n",
      " \n",
      "IN\n",
      "cars_per_cap       18\n",
      "country         India\n",
      "drives_right    False\n",
      "Name: IN, dtype: object\n",
      " \n",
      "RU\n",
      "cars_per_cap       200\n",
      "country         Russia\n",
      "drives_right      True\n",
      "Name: RU, dtype: object\n",
      " \n",
      "MOR\n",
      "cars_per_cap         70\n",
      "country         Morocco\n",
      "drives_right       True\n",
      "Name: MOR, dtype: object\n",
      " \n",
      "EG\n",
      "cars_per_cap       45\n",
      "country         Egypt\n",
      "drives_right     True\n",
      "Name: EG, dtype: object\n",
      " \n"
     ]
    }
   ],
   "source": [
    "# Import cars data\n",
    "import pandas as pd\n",
    "cars = pd.read_csv('datasets/cars.csv', index_col = 0)\n",
    "\n",
    "# Iterate over rows of cars\n",
    "for lab, row in cars.iterrows():\n",
    "    print(lab)\n",
    "    print(row)\n",
    "    print(\" \")"
   ]
  },
  {
   "cell_type": "markdown",
   "metadata": {},
   "source": [
    "### Loop over DataFrame (2)\n",
    "\n",
    "The row data that's generated by `iterrows()` on every run is a Pandas Series. This format is not very convenient to print out. Luckily, you can easily select variables from the Pandas Series using square brackets:\n",
    "\n",
    "```\n",
    "for lab, row in brics.iterrows() :\n",
    "    print(row['country'])\n",
    "```"
   ]
  },
  {
   "cell_type": "markdown",
   "metadata": {},
   "source": [
    "- Using the iterators `lab` and `row`, adapt the code in the for loop such that the first iteration prints out `\"US: 809\"`, the second iteration `\"AUS: 731\"`, and so on.\n",
    "- The output should be in the form `\"country: cars_per_cap\"`. Make sure to print out this exact string (with the correct spacing).\n",
    "  - You can use `str()` to convert your integer data to a string so that you can print it in conjunction with the country label."
   ]
  },
  {
   "cell_type": "code",
   "execution_count": 37,
   "metadata": {},
   "outputs": [
    {
     "name": "stdout",
     "output_type": "stream",
     "text": [
      "US : 809\n",
      "AUS : 731\n",
      "JAP : 588\n",
      "IN : 18\n",
      "RU : 200\n",
      "MOR : 70\n",
      "EG : 45\n"
     ]
    }
   ],
   "source": [
    "# Import cars data\n",
    "import pandas as pd\n",
    "cars = pd.read_csv('datasets/cars.csv', index_col = 0)\n",
    "\n",
    "# Adapt for loop\n",
    "for lab, row in cars.iterrows() :\n",
    "    print(lab + \" : \" + str(row['cars_per_cap']))"
   ]
  },
  {
   "cell_type": "markdown",
   "metadata": {},
   "source": [
    "### Add column (1)\n",
    "\n",
    "In the video, Hugo showed you how to add the length of the country names of the `brics` DataFrame in a new column:\n",
    "\n",
    "```\n",
    "for lab, row in brics.iterrows() :\n",
    "    brics.loc[lab, \"name_length\"] = len(row[\"country\"])\n",
    "```\n",
    "\n",
    "You can do similar things on the `cars` DataFrame."
   ]
  },
  {
   "cell_type": "markdown",
   "metadata": {},
   "source": [
    "- Use a for loop to add a new column, named COUNTRY, that contains a uppercase version of the country names in the \"country\" column. You can use the string method upper() for this.\n",
    "- To see if your code worked, print out cars. Don't indent this code, so that it's not part of the for loop."
   ]
  },
  {
   "cell_type": "code",
   "execution_count": 39,
   "metadata": {},
   "outputs": [
    {
     "name": "stdout",
     "output_type": "stream",
     "text": [
      "     cars_per_cap        country  drives_right        COUNTRY\n",
      "US            809  United States          True  UNITED STATES\n",
      "AUS           731      Australia         False      AUSTRALIA\n",
      "JAP           588          Japan         False          JAPAN\n",
      "IN             18          India         False          INDIA\n",
      "RU            200         Russia          True         RUSSIA\n",
      "MOR            70        Morocco          True        MOROCCO\n",
      "EG             45          Egypt          True          EGYPT\n"
     ]
    }
   ],
   "source": [
    "# Import cars data\n",
    "import pandas as pd\n",
    "cars = pd.read_csv('datasets/cars.csv', index_col = 0)\n",
    "\n",
    "# Code for loop that adds COUNTRY column\n",
    "for lab, row in cars.iterrows() :\n",
    "    cars.loc[lab, \"COUNTRY\"] = row[\"country\"].upper()\n",
    "\n",
    "# Print cars\n",
    "print(cars)"
   ]
  },
  {
   "cell_type": "markdown",
   "metadata": {},
   "source": [
    "### Add column (2)\n",
    "\n",
    "Using iterrows() to iterate over every observation of a Pandas DataFrame is easy to understand, but not very efficient. On every iteration, you're creating a new Pandas Series.\n",
    "\n",
    "If you want to add a column to a DataFrame by calling a function on another column, the iterrows() method in combination with a for loop is not the preferred way to go. Instead, you'll want to use apply().\n",
    "\n",
    "Compare the iterrows() version with the apply() version to get the same result in the brics DataFrame:\n",
    "\n",
    "```\n",
    "for lab, row in brics.iterrows() :\n",
    "    brics.loc[lab, \"name_length\"] = len(row[\"country\"])\n",
    "\n",
    "brics[\"name_length\"] = brics[\"country\"].apply(len)\n",
    "```\n",
    "\n",
    "We can do a similar thing to call the upper() method on every name in the country column. However, upper() is a method, so we'll need a slightly different approach:"
   ]
  },
  {
   "cell_type": "markdown",
   "metadata": {},
   "source": [
    "- Replace the for loop with a one-liner that uses .apply(str.upper). The call should give the same result: a column COUNTRY should be added to cars, containing an uppercase version of the country names.\n",
    "- As usual, print out cars to see the fruits of your hard labor"
   ]
  },
  {
   "cell_type": "code",
   "execution_count": 40,
   "metadata": {},
   "outputs": [
    {
     "name": "stdout",
     "output_type": "stream",
     "text": [
      "     cars_per_cap        country  drives_right        COUNTRY\n",
      "US            809  United States          True  UNITED STATES\n",
      "AUS           731      Australia         False      AUSTRALIA\n",
      "JAP           588          Japan         False          JAPAN\n",
      "IN             18          India         False          INDIA\n",
      "RU            200         Russia          True         RUSSIA\n",
      "MOR            70        Morocco          True        MOROCCO\n",
      "EG             45          Egypt          True          EGYPT\n"
     ]
    }
   ],
   "source": [
    "# Import cars data\n",
    "import pandas as pd\n",
    "cars = pd.read_csv('datasets/cars.csv', index_col = 0)\n",
    "\n",
    "# Use .apply(str.upper)\n",
    "for lab, row in cars.iterrows() :\n",
    "    cars['COUNTRY'] = cars['country'].apply(str.upper)\n",
    "\n",
    "print(cars)"
   ]
  },
  {
   "cell_type": "markdown",
   "metadata": {},
   "source": [
    "---"
   ]
  },
  {
   "cell_type": "markdown",
   "metadata": {},
   "source": [
    "# [5] Case Study: Hacker Statistics\n",
    "\n",
    "This chapter will allow you to apply all the concepts you've learned in this course. You will use hacker statistics to calculate your chances of winning a bet. Use random number generators, loops, and Matplotlib to gain a competitive edge!"
   ]
  },
  {
   "cell_type": "markdown",
   "metadata": {},
   "source": [
    "**Scenario:**\n",
    "\n",
    "1. Throw a dice 100 times.\n",
    "2. If it's 1 or 2, step down.\n",
    "3. If it's 3, 4, or 5, step up.\n",
    "4. If it's 6, throw the dice again and will talk up the resulting number of step.\n",
    "5. Cannot go lower than step 0.\n",
    "6. Has a 0.1% of falling down the step when made a move.\n",
    "   - falling down means start again from step 0\n",
    "   \n",
    "> *The bet is you'll reach 60 steps.*\n",
    "\n",
    "**What is the chance that you will win this bet?**"
   ]
  },
  {
   "cell_type": "markdown",
   "metadata": {},
   "source": [
    " ## How to solve\n",
    " \n",
    " - Analytical\n",
    "   - calculate the chance analytically using equations\n",
    " - Simulate the process\n",
    "   - \"Hacker Statistics!\""
   ]
  },
  {
   "cell_type": "markdown",
   "metadata": {},
   "source": [
    "## Random Generators\n",
    "- to simulate the dice\n",
    "\n",
    "**Pseudo-random numbers**\n",
    "- random numbers that are generated using a mathematical formula, staring from a random seed"
   ]
  },
  {
   "cell_type": "code",
   "execution_count": 42,
   "metadata": {},
   "outputs": [
    {
     "data": {
      "text/plain": [
       "0.7217499610640915"
      ]
     },
     "execution_count": 42,
     "metadata": {},
     "output_type": "execute_result"
    }
   ],
   "source": [
    "import numpy as np\n",
    "\n",
    "# gets number between zero and one\n",
    "# pseudo-random numbers\n",
    "np.random.rand()"
   ]
  },
  {
   "cell_type": "code",
   "execution_count": 46,
   "metadata": {},
   "outputs": [
    {
     "name": "stdout",
     "output_type": "stream",
     "text": [
      "0\n",
      "heads\n"
     ]
    }
   ],
   "source": [
    "import numpy as np\n",
    "\n",
    "np.random.rand(123)\n",
    "# first -> 0\n",
    "# second -> 2, because 2 is not going to be included\n",
    "coin = np.random.randint(0, 2) # randomly generate 0 or 1\n",
    "print(coin)\n",
    "\n",
    "if coin == 0:\n",
    "    print(\"heads\")\n",
    "else:\n",
    "    print(\"tails\")"
   ]
  },
  {
   "cell_type": "markdown",
   "metadata": {},
   "source": [
    "----"
   ]
  },
  {
   "cell_type": "markdown",
   "metadata": {},
   "source": [
    "### Random float\n",
    "\n",
    "Randomness has many uses in science, art, statistics, cryptography, gaming, gambling, and other fields. You're going to use randomness to simulate a game.\n",
    "\n",
    "All the functionality you need is contained in the random package, a sub-package of `numpy`. In this exercise, you'll be using two functions from this package:\n",
    "\n",
    "- `seed()`: sets the random seed, so that your results are reproducible between simulations. As an argument, it takes an integer of your choosing. If you call the function, no output will be generated.\n",
    "- `rand()`: if you don't specify any arguments, it generates a random float between zero and one."
   ]
  },
  {
   "cell_type": "code",
   "execution_count": 47,
   "metadata": {},
   "outputs": [
    {
     "name": "stdout",
     "output_type": "stream",
     "text": [
      "0.6964691855978616\n"
     ]
    }
   ],
   "source": [
    "# Import numpy as np\n",
    "import numpy as np\n",
    "\n",
    "# Set the seed\n",
    "np.random.seed(123)\n",
    "\n",
    "# Generate and print random float\n",
    "print(np.random.rand())"
   ]
  },
  {
   "cell_type": "markdown",
   "metadata": {},
   "source": [
    "### Roll the dice\n",
    "\n",
    "In the previous exercise, you used `rand()`, that generates a random float between 0 and 1.\n",
    "\n",
    "As Hugo explained in the video you can just as well use `randint()`, also a function of the random package, to generate integers randomly. The following call generates the integer 4, 5, 6 or 7 randomly. 8 is not included.\n",
    "\n",
    "```\n",
    "import numpy as np\n",
    "np.random.randint(4, 8)\n",
    "```\n",
    "\n",
    "NumPy has already been imported as `np` and a seed has been set. Can you roll some dice?"
   ]
  },
  {
   "cell_type": "code",
   "execution_count": 48,
   "metadata": {},
   "outputs": [
    {
     "name": "stdout",
     "output_type": "stream",
     "text": [
      "6\n",
      "3\n"
     ]
    }
   ],
   "source": [
    "# Import numpy and set seed\n",
    "import numpy as np\n",
    "np.random.seed(123)\n",
    "\n",
    "# Use randint() to simulate a dice\n",
    "print(np.random.randint(1, 7))\n",
    "\n",
    "# Use randint() again\n",
    "print(np.random.randint(1, 7))"
   ]
  },
  {
   "cell_type": "markdown",
   "metadata": {},
   "source": [
    "### Determine your next move\n",
    "\n",
    "In the Empire State Building bet, your next move depends on the number of eyes you throw with the dice. We can perfectly code this with an `if`-`elif`-`else` construct!\n",
    "\n",
    "The sample code assumes that you're currently at step 50. Can you fill in the missing pieces to finish the script? numpy is already imported as np and the seed has been set to 123, so you don't have to worry about that anymore."
   ]
  },
  {
   "cell_type": "markdown",
   "metadata": {},
   "source": [
    "- Roll the dice. Use randint() to create the variable dice.\n",
    "- Finish the if-elif-else construct by replacing ___:\n",
    "- If dice is 1 or 2, you go one step down.\n",
    "- if dice is 3, 4 or 5, you go one step up.\n",
    "- Else, you throw the dice again. The number of eyes is the number of steps you go up.\n",
    "- Print out dice and step. Given the value of dice, was step updated correctly?"
   ]
  },
  {
   "cell_type": "code",
   "execution_count": 49,
   "metadata": {},
   "outputs": [
    {
     "name": "stdout",
     "output_type": "stream",
     "text": [
      "5\n",
      "51\n"
     ]
    }
   ],
   "source": [
    "# NumPy is imported, seed is set\n",
    "\n",
    "# Starting step\n",
    "step = 50\n",
    "\n",
    "# Roll the dice\n",
    "dice = np.random.randint(1, 7)\n",
    "\n",
    "# Finish the control construct\n",
    "if dice <= 2 :\n",
    "    step = step - 1\n",
    "elif dice >= 3 and dice <= 5 :\n",
    "    step = step + 1\n",
    "else :\n",
    "    step = step + np.random.randint(1,7)\n",
    "\n",
    "# Print out dice and step\n",
    "print(dice)\n",
    "print(step)"
   ]
  },
  {
   "cell_type": "markdown",
   "metadata": {},
   "source": [
    "## Random Step (Random Walk)\n",
    "- to record every step in a random walk, learn how to gradually build a list with a for loop."
   ]
  },
  {
   "cell_type": "markdown",
   "metadata": {},
   "source": [
    "### Heads or Tails"
   ]
  },
  {
   "cell_type": "code",
   "execution_count": 51,
   "metadata": {},
   "outputs": [
    {
     "name": "stdout",
     "output_type": "stream",
     "text": [
      "['heads', 'tails', 'heads', 'heads', 'heads', 'heads', 'heads', 'tails', 'tails', 'heads']\n"
     ]
    }
   ],
   "source": [
    "import numpy as np\n",
    "np.random.seed(123)\n",
    "outcomes = []\n",
    "\n",
    "for x in range(10):\n",
    "    coin = np.random.randint(0, 2)\n",
    "    if coin == 0:\n",
    "        outcomes.append(\"heads\")\n",
    "    else: \n",
    "        outcomes.append(\"tails\")\n",
    "print(outcomes)"
   ]
  },
  {
   "cell_type": "markdown",
   "metadata": {},
   "source": [
    "### Heads or Tails: Random Walk"
   ]
  },
  {
   "cell_type": "code",
   "execution_count": 52,
   "metadata": {},
   "outputs": [
    {
     "name": "stdout",
     "output_type": "stream",
     "text": [
      "[0, 0, 1, 1, 1, 1, 1, 1, 2, 3, 3]\n"
     ]
    }
   ],
   "source": [
    "# tracking the total number of tails while simulating the game\n",
    "\n",
    "import numpy as np\n",
    "np.random.seed(123)\n",
    "\n",
    "tails = [0]\n",
    "\n",
    "for x in range(10):\n",
    "    coin = np.random.randint(0, 2)\n",
    "    tails.append(tails[x] + coin)\n",
    "\n",
    "print(tails)"
   ]
  },
  {
   "cell_type": "markdown",
   "metadata": {},
   "source": [
    "> The final element in the list tells how often the tails was thrown."
   ]
  },
  {
   "cell_type": "markdown",
   "metadata": {},
   "source": [
    "---\n",
    "\n",
    "### The next step\n",
    "Before, you have already written Python code that determines the next step based on the previous step. Now it's time to put this code inside a for loop so that we can simulate a random walk.\n",
    "\n",
    "numpy has been imported as np."
   ]
  },
  {
   "cell_type": "markdown",
   "metadata": {},
   "source": [
    "- Make a list `random_walk` that contains the first step, which is the integer 0.\n",
    "- Finish the `for` loop:\n",
    "- The loop should run `100` times.\n",
    "- On each iteration, set `step` equal to the last element in the `random_walk` list. You can use the index -1 for this.\n",
    "- Next, let the `if`-`elif`-`else` construct update step for you.\n",
    "- The code that appends step to `random_walk` is already coded.\n",
    "- Print out `random_walk`."
   ]
  },
  {
   "cell_type": "code",
   "execution_count": 53,
   "metadata": {},
   "outputs": [
    {
     "name": "stdout",
     "output_type": "stream",
     "text": [
      "[0, 1, 0, -1, -2, -3, -4, -5, -6, -7, -6, -1, -2, -3, -2, -3, -2, -1, 0, 1, 2, 1, 2, 1, 2, 3, 4, 5, 4, 8, 9, 8, 9, 8, 9, 10, 11, 12, 13, 14, 15, 18, 19, 20, 21, 26, 27, 31, 32, 31, 32, 33, 32, 33, 34, 36, 37, 38, 37, 36, 37, 38, 37, 36, 37, 38, 40, 39, 38, 39, 38, 39, 40, 41, 43, 42, 43, 44, 45, 46, 47, 46, 45, 46, 45, 46, 47, 46, 49, 50, 51, 52, 51, 52, 53, 57, 56, 55, 57, 56, 57]\n"
     ]
    }
   ],
   "source": [
    "# NumPy is imported, seed is set\n",
    "\n",
    "# Initialize random_walk\n",
    "random_walk = [0]\n",
    "\n",
    "# Complete the for loop\n",
    "for x in range(100) :\n",
    "    # Set step: last element in random_walk\n",
    "    step = random_walk[-1]\n",
    "\n",
    "    # Roll the dice\n",
    "    dice = np.random.randint(1,7)\n",
    "\n",
    "    # Determine next step\n",
    "    if dice <= 2:\n",
    "        step = step - 1\n",
    "    elif dice <= 5:\n",
    "        step = step + 1\n",
    "    else:\n",
    "        step = step + np.random.randint(1,7)\n",
    "\n",
    "    # append next_step to random_walk\n",
    "    random_walk.append(step)\n",
    "\n",
    "# Print random_walk\n",
    "print(random_walk)"
   ]
  },
  {
   "cell_type": "markdown",
   "metadata": {},
   "source": [
    "### How low can you go?\n",
    "\n",
    "Things are shaping up nicely! You already have code that calculates your location in the Empire State Building after 100 dice throws. However, there's something we haven't thought about - you can't go below 0!\n",
    "\n",
    "A typical way to solve problems like this is by using `max()`. If you pass max() two arguments, the biggest one gets returned. For example, to make sure that a variable x never goes below 10 when you decrease it, you can use:\n",
    "\n",
    "`x = max(10, x - 1)`"
   ]
  },
  {
   "cell_type": "markdown",
   "metadata": {},
   "source": [
    "- Use `max()` in a similar way to make sure that step doesn't go below zero if `dice <= 2`.\n",
    "- Hit Submit Answer and check the contents of `random_walk`."
   ]
  },
  {
   "cell_type": "code",
   "execution_count": 54,
   "metadata": {},
   "outputs": [
    {
     "name": "stdout",
     "output_type": "stream",
     "text": [
      "[0, 2, 3, 4, 9, 8, 9, 10, 11, 12, 13, 12, 17, 18, 19, 20, 19, 18, 17, 16, 15, 16, 17, 18, 24, 23, 22, 21, 22, 23, 24, 23, 24, 25, 24, 29, 30, 29, 28, 27, 26, 27, 26, 25, 27, 28, 31, 32, 34, 35, 36, 37, 36, 35, 36, 37, 38, 39, 38, 39, 40, 41, 44, 45, 46, 45, 46, 45, 46, 47, 48, 52, 51, 50, 51, 52, 53, 52, 53, 52, 53, 55, 60, 59, 60, 61, 62, 63, 64, 65, 64, 65, 66, 67, 69, 71, 70, 71, 72, 75, 74]\n"
     ]
    }
   ],
   "source": [
    "# NumPy is imported, seed is set\n",
    "\n",
    "# Initialize random_walk\n",
    "random_walk = [0]\n",
    "\n",
    "for x in range(100) :\n",
    "    step = random_walk[-1]\n",
    "    dice = np.random.randint(1,7)\n",
    "\n",
    "    if dice <= 2:\n",
    "        # Replace below: use max to make sure step can't go below 0\n",
    "        step = max(0, step - 1)\n",
    "    elif dice <= 5:\n",
    "        step = step + 1\n",
    "    else:\n",
    "        step = step + np.random.randint(1,7)\n",
    "\n",
    "    random_walk.append(step)\n",
    "\n",
    "print(random_walk)"
   ]
  },
  {
   "cell_type": "markdown",
   "metadata": {},
   "source": [
    "### Visualize the walk\n",
    "\n",
    "Let's visualize this random walk! Remember how you could use `matplotlib` to build a line plot?\n",
    "\n",
    "```\n",
    "import matplotlib.pyplot as plt\n",
    "plt.plot(x, y)\n",
    "plt.show()\n",
    "```\n",
    "\n",
    "The first list you pass is mapped onto the `x` axis and the second list is mapped onto the `y` axis.\n",
    "\n",
    "If you pass only one argument, Python will know what to do and will use the index of the list to map onto the x axis, and the values in the list onto the y axis.\n",
    "\n",
    "<br>\n",
    "\n",
    "Add some lines of code after the for loop:\n",
    "- Import matplotlib.pyplot as plt.\n",
    "- Use plt.plot() to plot random_walk.\n",
    "- Finish off with plt.show() to actually display the plot."
   ]
  },
  {
   "cell_type": "code",
   "execution_count": 55,
   "metadata": {},
   "outputs": [
    {
     "data": {
      "image/png": "[encoded data removed]",
      "text/plain": [
       "<Figure size 432x288 with 1 Axes>"
      ]
     },
     "metadata": {
      "needs_background": "light"
     },
     "output_type": "display_data"
    }
   ],
   "source": [
    "# NumPy is imported, seed is set\n",
    "\n",
    "# Initialization\n",
    "random_walk = [0]\n",
    "\n",
    "for x in range(100) :\n",
    "    step = random_walk[-1]\n",
    "    dice = np.random.randint(1,7)\n",
    "\n",
    "    if dice <= 2:\n",
    "        step = max(0, step - 1)\n",
    "    elif dice <= 5:\n",
    "        step = step + 1\n",
    "    else:\n",
    "        step = step + np.random.randint(1,7)\n",
    "\n",
    "    random_walk.append(step)\n",
    "\n",
    "# Import matplotlib.pyplot as plt\n",
    "import matplotlib.pyplot as plt\n",
    "\n",
    "# Plot random_walk\n",
    "plt.plot(random_walk)\n",
    "\n",
    "# Show the plot\n",
    "plt.show()"
   ]
  },
  {
   "cell_type": "markdown",
   "metadata": {},
   "source": [
    "## Distribution"
   ]
  },
  {
   "cell_type": "code",
   "execution_count": 61,
   "metadata": {},
   "outputs": [
    {
     "name": "stdout",
     "output_type": "stream",
     "text": [
      "[3, 6, 4, 5, 4, 5, 3, 5, 4, 6, 6, 8, 6, 4, 7, 5, 7, 4, 3, 3, 4, 5, 8, 5, 6, 5, 7, 6, 4, 5, 8, 5, 8, 4, 6, 6, 3, 4, 5, 4, 7, 8, 9, 4, 3, 4, 5, 6, 4, 2, 6, 6, 5, 7, 5, 4, 5, 5, 6, 7, 6, 6, 6, 3, 6, 3, 6, 5, 6, 5, 6, 4, 6, 6, 3, 4, 4, 2, 4, 5, 4, 6, 6, 6, 8, 4, 6, 5, 7, 4, 6, 5, 4, 6, 7, 3, 7, 4, 5, 7]\n"
     ]
    }
   ],
   "source": [
    "import numpy as np\n",
    "np.random.seed(123)\n",
    "\n",
    "final_tails = []\n",
    "\n",
    "for x in range(100):\n",
    "    tails = [0]\n",
    "    for x in range(10):\n",
    "        coin = np.random.randint(0, 2)\n",
    "        tails.append(tails[x] + coin)\n",
    "    # append the last number, so the number of tails after tossing 10 times, to the final_tails list\n",
    "    final_tails.append(tails[-1])\n",
    "print(final_tails)"
   ]
  },
  {
   "cell_type": "code",
   "execution_count": 63,
   "metadata": {},
   "outputs": [
    {
     "data": {
      "image/png": "[encoded data removed]",
      "text/plain": [
       "<Figure size 432x288 with 1 Axes>"
      ]
     },
     "metadata": {
      "needs_background": "light"
     },
     "output_type": "display_data"
    }
   ],
   "source": [
    "import numpy as np\n",
    "import matplotlib.pyplot as plt\n",
    "\n",
    "np.random.seed(123)\n",
    "\n",
    "final_tails = []\n",
    "\n",
    "for x in range(1000):\n",
    "    tails = [0]\n",
    "    for x in range(10):\n",
    "        coin = np.random.randint(0, 2)\n",
    "        tails.append(tails[x] + coin)\n",
    "    final_tails.append(tails[-1])\n",
    "plt.hist(final_tails, bins = 10)\n",
    "plt.show()"
   ]
  },
  {
   "cell_type": "code",
   "execution_count": 64,
   "metadata": {},
   "outputs": [
    {
     "name": "stdout",
     "output_type": "stream",
     "text": [
      "[[0, 0, 1, 0, 0, 1, 2, 7, 8, 9, 10, 11, 10, 13, 12, 11, 10, 9, 11, 15, 16, 15, 18, 19, 20, 21, 27, 26, 32, 31, 32, 31, 32, 38, 39, 40, 39, 38, 39, 40, 41, 43, 42, 44, 49, 51, 50, 51, 52, 53, 54, 56, 57, 58, 59, 58, 59, 60, 59, 60, 61, 62, 61, 62, 67, 66, 67, 68, 67, 72, 73, 74, 75, 76, 79, 80, 79, 80, 81, 82, 83, 84, 85, 84, 83, 84, 90, 89, 90, 94, 93, 94, 96, 95, 96, 97, 100, 101, 102, 103, 104], [0, 0, 0, 1, 2, 1, 2, 1, 2, 3, 2, 1, 2, 3, 2, 1, 2, 3, 2, 3, 2, 5, 11, 12, 13, 19, 23, 24, 25, 24, 25, 28, 29, 30, 29, 30, 29, 30, 36, 35, 36, 35, 36, 35, 36, 35, 36, 35, 36, 35, 41, 46, 47, 46, 45, 46, 45, 46, 47, 46, 47, 48, 49, 50, 49, 50, 51, 52, 53, 52, 53, 54, 53, 52, 51, 52, 53, 59, 61, 60, 59, 60, 61, 62, 63, 62, 63, 64, 65, 66, 67, 66, 65, 66, 67, 66, 65, 64, 65, 66, 67], [0, 0, 1, 0, 1, 0, 1, 0, 1, 0, 1, 0, 0, 2, 3, 4, 5, 9, 10, 11, 12, 13, 14, 15, 16, 17, 18, 19, 18, 19, 21, 20, 21, 20, 21, 26, 27, 28, 29, 30, 29, 28, 27, 32, 31, 33, 32, 33, 34, 33, 32, 31, 30, 29, 30, 31, 30, 29, 28, 29, 28, 33, 32, 35, 34, 39, 40, 41, 42, 45, 46, 45, 44, 45, 46, 45, 44, 49, 50, 49, 50, 51, 50, 51, 52, 51, 52, 53, 57, 56, 55, 56, 57, 58, 60, 61, 60, 61, 62, 61, 62], [0, 0, 6, 7, 8, 7, 8, 7, 8, 9, 14, 20, 22, 21, 22, 23, 28, 33, 34, 33, 34, 39, 40, 41, 42, 43, 44, 45, 44, 45, 46, 47, 46, 45, 46, 47, 51, 50, 53, 54, 53, 54, 55, 56, 57, 58, 57, 56, 57, 63, 67, 68, 67, 68, 72, 73, 72, 73, 74, 77, 78, 79, 78, 77, 79, 78, 79, 80, 84, 83, 84, 85, 84, 87, 86, 85, 86, 85, 86, 85, 86, 87, 88, 87, 88, 87, 86, 87, 88, 87, 88, 87, 86, 87, 88, 89, 90, 89, 90, 89, 88], [0, 0, 0, 1, 0, 0, 0, 1, 2, 1, 2, 1, 2, 1, 2, 3, 4, 5, 6, 7, 8, 9, 10, 9, 8, 7, 6, 12, 11, 10, 12, 11, 10, 11, 12, 11, 10, 9, 14, 20, 19, 18, 21, 22, 23, 24, 27, 28, 29, 30, 31, 32, 31, 30, 36, 37, 38, 39, 38, 39, 43, 44, 45, 46, 48, 49, 50, 51, 52, 57, 56, 57, 58, 62, 64, 63, 62, 61, 62, 63, 64, 65, 64, 63, 64, 65, 66, 67, 66, 68, 69, 70, 71, 70, 69, 70, 71, 72, 76, 82, 88], [0, 1, 0, 1, 2, 3, 4, 3, 4, 3, 4, 3, 4, 5, 4, 5, 6, 7, 8, 13, 14, 13, 15, 16, 17, 18, 17, 18, 17, 18, 17, 18, 23, 22, 21, 22, 21, 20, 19, 20, 21, 22, 23, 24, 26, 27, 28, 29, 34, 36, 35, 36, 35, 36, 37, 36, 37, 38, 40, 39, 38, 37, 38, 37, 36, 37, 38, 39, 38, 39, 40, 43, 42, 48, 47, 46, 47, 46, 45, 46, 47, 48, 47, 46, 45, 44, 43, 44, 45, 46, 45, 44, 43, 48, 49, 53, 57, 58, 59, 61, 62], [0, 5, 4, 5, 6, 7, 8, 9, 8, 11, 12, 13, 14, 15, 14, 19, 20, 19, 18, 19, 21, 22, 21, 24, 25, 24, 23, 22, 24, 23, 24, 26, 27, 32, 31, 32, 31, 30, 31, 32, 33, 32, 31, 32, 33, 34, 33, 32, 31, 32, 33, 34, 35, 34, 39, 40, 39, 40, 43, 44, 45, 44, 46, 47, 48, 49, 48, 49, 50, 56, 57, 56, 55, 56, 55, 56, 61, 62, 63, 62, 63, 67, 70, 69, 70, 69, 70, 71, 70, 71, 72, 73, 79, 78, 77, 78, 77, 78, 77, 78, 79], [0, 1, 0, 1, 0, 4, 3, 4, 5, 6, 7, 8, 7, 8, 12, 13, 14, 15, 14, 15, 14, 13, 17, 18, 19, 18, 19, 18, 20, 19, 24, 25, 26, 25, 26, 29, 30, 31, 32, 33, 34, 38, 37, 36, 35, 34, 33, 34, 35, 36, 39, 38, 37, 38, 39, 40, 39, 38, 39, 40, 41, 40, 41, 40, 41, 42, 41, 42, 41, 40, 41, 42, 43, 44, 45, 46, 45, 46, 47, 46, 47, 48, 47, 48, 47, 48, 49, 53, 52, 53, 52, 53, 54, 53, 54, 57, 58, 59, 60, 62, 63], [0, 1, 2, 3, 2, 3, 2, 8, 9, 10, 9, 10, 11, 12, 13, 12, 11, 14, 13, 14, 13, 12, 13, 14, 15, 14, 15, 16, 17, 18, 19, 20, 21, 20, 19, 20, 19, 20, 21, 22, 23, 24, 23, 24, 25, 24, 25, 24, 23, 24, 25, 26, 25, 26, 27, 26, 27, 29, 28, 27, 29, 30, 33, 34, 33, 34, 39, 40, 41, 46, 47, 48, 49, 48, 52, 51, 52, 53, 52, 53, 54, 53, 54, 53, 54, 56, 60, 59, 61, 62, 63, 65, 66, 67, 68, 69, 71, 72, 71, 72, 71], [0, 0, 3, 4, 5, 8, 9, 8, 9, 10, 11, 12, 11, 12, 11, 13, 17, 19, 20, 21, 22, 23, 24, 25, 29, 34, 35, 34, 35, 34, 35, 36, 37, 36, 40, 41, 40, 39, 45, 46, 47, 46, 45, 44, 45, 46, 47, 46, 47, 48, 47, 48, 49, 48, 47, 48, 49, 48, 47, 52, 51, 57, 56, 57, 56, 62, 63, 62, 61, 62, 63, 64, 65, 66, 65, 66, 65, 66, 72, 71, 70, 69, 68, 67, 68, 69, 68, 67, 66, 67, 66, 67, 68, 67, 66, 65, 66, 67, 66, 67, 66]]\n"
     ]
    }
   ],
   "source": [
    "# NumPy is imported; seed is set\n",
    "\n",
    "# Initialize all_walks (don't change this line)\n",
    "all_walks = []\n",
    "\n",
    "# Simulate random walk 10 times\n",
    "for i in range(10) :\n",
    "\n",
    "    # Code from before\n",
    "    random_walk = [0]\n",
    "    for x in range(100) :\n",
    "        step = random_walk[-1]\n",
    "        dice = np.random.randint(1,7)\n",
    "\n",
    "        if dice <= 2:\n",
    "            step = max(0, step - 1)\n",
    "        elif dice <= 5:\n",
    "            step = step + 1\n",
    "        else:\n",
    "            step = step + np.random.randint(1,7)\n",
    "        random_walk.append(step)\n",
    "\n",
    "    # Append random_walk to all_walks\n",
    "    all_walks.append(random_walk)\n",
    "\n",
    "# Print all_walks\n",
    "print(all_walks)"
   ]
  },
  {
   "cell_type": "code",
   "execution_count": 66,
   "metadata": {},
   "outputs": [
    {
     "data": {
      "image/png": "[encoded data removed]",
      "text/plain": [
       "<Figure size 432x288 with 1 Axes>"
      ]
     },
     "metadata": {
      "needs_background": "light"
     },
     "output_type": "display_data"
    },
    {
     "data": {
      "text/plain": [
       "<Figure size 432x288 with 0 Axes>"
      ]
     },
     "metadata": {},
     "output_type": "display_data"
    },
    {
     "data": {
      "image/png": "[encoded data removed]",
      "text/plain": [
       "<Figure size 432x288 with 1 Axes>"
      ]
     },
     "metadata": {
      "needs_background": "light"
     },
     "output_type": "display_data"
    }
   ],
   "source": [
    "# numpy and matplotlib imported, seed set.\n",
    "\n",
    "# initialize and populate all_walks\n",
    "all_walks = []\n",
    "for i in range(10) :\n",
    "    random_walk = [0]\n",
    "    for x in range(100) :\n",
    "        step = random_walk[-1]\n",
    "        dice = np.random.randint(1,7)\n",
    "        if dice <= 2:\n",
    "            step = max(0, step - 1)\n",
    "        elif dice <= 5:\n",
    "            step = step + 1\n",
    "        else:\n",
    "            step = step + np.random.randint(1,7)\n",
    "        random_walk.append(step)\n",
    "    all_walks.append(random_walk)\n",
    "\n",
    "# Convert all_walks to NumPy array: np_aw\n",
    "np_aw = np.array(all_walks)\n",
    "\n",
    "# Plot np_aw and show\n",
    "plt.plot(np_aw)\n",
    "plt.show()\n",
    "\n",
    "# Clear the figure\n",
    "plt.clf()\n",
    "plt.show()\n",
    "\n",
    "# Transpose np_aw: np_aw_t\n",
    "np_aw_t = np.transpose(np_aw)\n",
    "\n",
    "# Plot np_aw_t and show\n",
    "plt.plot(np_aw_t)\n",
    "plt.show()"
   ]
  },
  {
   "cell_type": "code",
   "execution_count": 68,
   "metadata": {},
   "outputs": [
    {
     "data": {
      "image/png": "[encoded data removed]",
      "text/plain": [
       "<Figure size 432x288 with 1 Axes>"
      ]
     },
     "metadata": {
      "needs_background": "light"
     },
     "output_type": "display_data"
    }
   ],
   "source": [
    "# numpy and matplotlib imported, seed set\n",
    "\n",
    "# Simulate random walk 250 times\n",
    "all_walks = []\n",
    "for i in range(250) :\n",
    "    random_walk = [0]\n",
    "    for x in range(100) :\n",
    "        step = random_walk[-1]\n",
    "        dice = np.random.randint(1,7)\n",
    "        if dice <= 2:\n",
    "            step = max(0, step - 1)\n",
    "        elif dice <= 5:\n",
    "            step = step + 1\n",
    "        else:\n",
    "            step = step + np.random.randint(1,7)\n",
    "\n",
    "        # Implement clumsiness\n",
    "        if np.random.rand() <= 0.001 :\n",
    "            step = 0\n",
    "\n",
    "        random_walk.append(step)\n",
    "    all_walks.append(random_walk)\n",
    "\n",
    "# Create and plot np_aw_t\n",
    "np_aw_t = np.transpose(np.array(all_walks))\n",
    "plt.plot(np_aw_t)\n",
    "plt.show()"
   ]
  },
  {
   "cell_type": "code",
   "execution_count": 69,
   "metadata": {},
   "outputs": [
    {
     "data": {
      "image/png": "[encoded data removed]",
      "text/plain": [
       "<Figure size 432x288 with 1 Axes>"
      ]
     },
     "metadata": {
      "needs_background": "light"
     },
     "output_type": "display_data"
    }
   ],
   "source": [
    "# numpy and matplotlib imported, seed set\n",
    "\n",
    "# Simulate random walk 500 times\n",
    "all_walks = []\n",
    "for i in range(500) :\n",
    "    random_walk = [0]\n",
    "    for x in range(100) :\n",
    "        step = random_walk[-1]\n",
    "        dice = np.random.randint(1,7)\n",
    "        if dice <= 2:\n",
    "            step = max(0, step - 1)\n",
    "        elif dice <= 5:\n",
    "            step = step + 1\n",
    "        else:\n",
    "            step = step + np.random.randint(1,7)\n",
    "        if np.random.rand() <= 0.001 :\n",
    "            step = 0\n",
    "        random_walk.append(step)\n",
    "    all_walks.append(random_walk)\n",
    "\n",
    "# Create and plot np_aw_t\n",
    "np_aw_t = np.transpose(np.array(all_walks))\n",
    "\n",
    "# Select last row from np_aw_t: ends\n",
    "ends = np.array(np_aw_t[-1])\n",
    "\n",
    "# Plot histogram of ends, display plot\n",
    "plt.hist(ends)\n",
    "plt.show()"
   ]
  },
  {
   "cell_type": "code",
   "execution_count": null,
   "metadata": {},
   "outputs": [],
   "source": []
  },
  {
   "cell_type": "code",
   "execution_count": null,
   "metadata": {},
   "outputs": [],
   "source": []
  },
  {
   "cell_type": "code",
   "execution_count": null,
   "metadata": {},
   "outputs": [],
   "source": []
  },
  {
   "cell_type": "code",
   "execution_count": null,
   "metadata": {},
   "outputs": [],
   "source": []
  },
  {
   "cell_type": "code",
   "execution_count": null,
   "metadata": {},
   "outputs": [],
   "source": []
  },
  {
   "cell_type": "code",
   "execution_count": null,
   "metadata": {},
   "outputs": [],
   "source": []
  }
 ],
 "metadata": {
  "kernelspec": {
   "display_name": "Python 3",
   "language": "python",
   "name": "python3"
  },
  "language_info": {
   "codemirror_mode": {
    "name": "ipython",
    "version": 3
   },
   "file_extension": ".py",
   "mimetype": "text/x-python",
   "name": "python",
   "nbconvert_exporter": "python",
   "pygments_lexer": "ipython3",
   "version": "3.8.5"
  }
 },
 "nbformat": 4,
 "nbformat_minor": 4
}
